{
 "cells": [
  {
   "cell_type": "code",
   "execution_count": 1,
   "id": "4fac3507-885c-4cb9-83d3-354c3824c0c7",
   "metadata": {
    "tags": []
   },
   "outputs": [],
   "source": [
    "import pandas as pd\n",
    "import numpy as np\n",
    "import requests\n",
    "import json\n",
    "import time"
   ]
  },
  {
   "cell_type": "code",
   "execution_count": 2,
   "id": "6c355326-d5fe-4daa-b26a-7137b541d7e9",
   "metadata": {
    "tags": []
   },
   "outputs": [],
   "source": [
    "ca_stations = \"https://www.ncei.noaa.gov/cdo-web/api/v2/stations?locationid=FIPS:06&offset=4540\"\n",
    "head = {'token':'NtaLTUZoQTFKjelGNOqHHeoSVFClmpiN'}\n",
    "response = requests.get(ca_stations, headers=head)"
   ]
  },
  {
   "cell_type": "code",
   "execution_count": 5,
   "id": "6c552419-1e45-4a75-9ae9-1f96d23940f3",
   "metadata": {
    "tags": []
   },
   "outputs": [
    {
     "data": {
      "text/plain": [
       "'{\"metadata\":{\"resultset\":{\"offset\":4540,\"count\":4573,\"limit\":25}},\"results\":[{\"elevation\":7.2,\"mindate\":\"1945-05-01\",\"maxdate\":\"2023-03-26\",\"latitude\":32.56797,\"name\":\"IMPERIAL BEACH REAM FIELD NAS, CA US\",\"datacoverage\":0.81,\"id\":\"WBAN:93115\",\"elevationUnit\":\"METERS\",\"longitude\":-117.11715},{\"elevation\":161.3,\"mindate\":\"1943-06-16\",\"maxdate\":\"2023-03-26\",\"latitude\":33.23377,\"name\":\"SAN NICOLAS ISLAND, CA US\",\"datacoverage\":0.68,\"id\":\"WBAN:93116\",\"elevationUnit\":\"METERS\",\"longitude\":-119.45591},{\"elevation\":55.5,\"mindate\":\"1943-06-10\",\"maxdate\":\"2023-03-26\",\"latitude\":33.02333,\"name\":\"SAN CLEMENTE ISLAND NAAS, CA US\",\"datacoverage\":0.61,\"id\":\"WBAN:93117\",\"elevationUnit\":\"METERS\",\"longitude\":-118.58806},{\"elevation\":610.5,\"mindate\":\"1945-05-01\",\"maxdate\":\"2023-03-26\",\"latitude\":34.294,\"name\":\"TWENTYNINE PALMS MC, CA US\",\"datacoverage\":0.47,\"id\":\"WBAN:93121\",\"elevationUnit\":\"METERS\",\"longitude\":-116.14722},{\"elevation\":54.6,\"mindate\":\"1999-07-01\",\"maxdate\":\"2023-03-26\",\"latitude\":34.0236,\"name\":\"LOS ANGELES DOWNTOWN USC, CA US\",\"datacoverage\":1,\"id\":\"WBAN:93134\",\"elevationUnit\":\"METERS\",\"longitude\":-118.2911},{\"elevation\":1739.2,\"mindate\":\"1949-01-01\",\"maxdate\":\"2015-05-13\",\"latitude\":34.23333,\"name\":\"MOUNT WILSON, CA US\",\"datacoverage\":0.3,\"id\":\"WBAN:93136\",\"elevationUnit\":\"METERS\",\"longitude\":-118.06667},{\"elevation\":124.7,\"mindate\":\"2005-01-01\",\"maxdate\":\"2023-03-26\",\"latitude\":33.82216,\"name\":\"PALM SPRINGS ASOS, CA US\",\"datacoverage\":1,\"id\":\"WBAN:93138\",\"elevationUnit\":\"METERS\",\"longitude\":-116.50433},{\"elevation\":89.9,\"mindate\":\"2005-01-01\",\"maxdate\":\"2023-03-26\",\"latitude\":36.31667,\"name\":\"VISALIA MUNICIPAL AIRPORT, CA US\",\"datacoverage\":1,\"id\":\"WBAN:93144\",\"elevationUnit\":\"METERS\",\"longitude\":-119.4},{\"elevation\":13,\"mindate\":\"1940-06-17\",\"maxdate\":\"2023-03-26\",\"latitude\":33.67975,\"name\":\"SANTA ANA JOHN WAYNE AIRPORT, CA US\",\"datacoverage\":0.68,\"id\":\"WBAN:93184\",\"elevationUnit\":\"METERS\",\"longitude\":-117.86746},{\"elevation\":101.9,\"mindate\":\"1941-12-04\",\"maxdate\":\"2023-03-26\",\"latitude\":36.77999,\"name\":\"FRESNO YOSEMITE INTERNATIONAL, CA US\",\"datacoverage\":0.98,\"id\":\"WBAN:93193\",\"elevationUnit\":\"METERS\",\"longitude\":-119.72016},{\"elevation\":748.9,\"mindate\":\"2005-02-26\",\"maxdate\":\"2013-11-04\",\"latitude\":35.66667,\"name\":\"INYOKERN KERN CO, CA US\",\"datacoverage\":0.27,\"id\":\"WBAN:93194\",\"elevationUnit\":\"METERS\",\"longitude\":-117.83333},{\"elevation\":53.3,\"mindate\":\"2005-01-01\",\"maxdate\":\"2023-03-26\",\"latitude\":34.02099,\"name\":\"SANTA MONICA MUNICIPAL AIRPORT, CA US\",\"datacoverage\":1,\"id\":\"WBAN:93197\",\"elevationUnit\":\"METERS\",\"longitude\":-118.44712},{\"elevation\":1798.3,\"mindate\":\"2005-01-01\",\"maxdate\":\"2023-03-26\",\"latitude\":39.32,\"name\":\"TRUCKEE AIRPORT, CA US\",\"datacoverage\":1,\"id\":\"WBAN:93201\",\"elevationUnit\":\"METERS\",\"longitude\":-120.13944},{\"elevation\":82.9,\"mindate\":\"2005-02-25\",\"maxdate\":\"2023-03-26\",\"latitude\":39.8,\"name\":\"CHICO ARMY FLYING SCHOOL, CA US\",\"datacoverage\":1,\"id\":\"WBAN:93203\",\"elevationUnit\":\"METERS\",\"longitude\":-121.85},{\"elevation\":18.9,\"mindate\":\"2005-01-01\",\"maxdate\":\"2023-03-26\",\"latitude\":39.10205,\"name\":\"MARYSVILLE AIRPORT ASOS, CA US\",\"datacoverage\":1,\"id\":\"WBAN:93205\",\"elevationUnit\":\"METERS\",\"longitude\":-121.56884},{\"elevation\":55.8,\"mindate\":\"2005-01-01\",\"maxdate\":\"2023-03-26\",\"latitude\":35.23815,\"name\":\"SAN LUIS OBISPO MCCHESNEY FIELD, CA US\",\"datacoverage\":1,\"id\":\"WBAN:93206\",\"elevationUnit\":\"METERS\",\"longitude\":-120.64406},{\"elevation\":249.8,\"mindate\":\"1941-12-01\",\"maxdate\":\"2023-03-26\",\"latitude\":35.66936,\"name\":\"PASO ROBLES MUNICIPAL AIRPORT, CA US\",\"datacoverage\":0.97,\"id\":\"WBAN:93209\",\"elevationUnit\":\"METERS\",\"longitude\":-120.62918},{\"elevation\":56.9,\"mindate\":\"2005-01-01\",\"maxdate\":\"2023-03-26\",\"latitude\":39.4943,\"name\":\"OROVILLE MUNICIPAL AIRPORT, CA US\",\"datacoverage\":1,\"id\":\"WBAN:93210\",\"elevationUnit\":\"METERS\",\"longitude\":-121.62226},{\"elevation\":112.5,\"mindate\":\"2005-01-03\",\"maxdate\":\"2023-03-26\",\"latitude\":34.71667,\"name\":\"VANDENBERG AFB, CA US\",\"datacoverage\":1,\"id\":\"WBAN:93214\",\"elevationUnit\":\"METERS\",\"longitude\":-120.56667},{\"elevation\":38.1,\"mindate\":\"1959-07-01\",\"maxdate\":\"2023-03-26\",\"latitude\":39.13333,\"name\":\"BEALE AFB, CA US\",\"datacoverage\":0.97,\"id\":\"WBAN:93216\",\"elevationUnit\":\"METERS\",\"longitude\":-121.43333},{\"elevation\":43,\"mindate\":\"1960-04-04\",\"maxdate\":\"1993-08-31\",\"latitude\":36.68333,\"name\":\"FRITZSCHE ARMY AIR FIELD, CA US\",\"datacoverage\":0.74,\"id\":\"WBAN:93217\",\"elevationUnit\":\"METERS\",\"longitude\":-121.76667},{\"elevation\":7.5,\"mindate\":\"1973-01-01\",\"maxdate\":\"2023-03-26\",\"latitude\":38.70069,\"name\":\"SACRAMENTO METROPOLITAN AIRPORT, CA US\",\"datacoverage\":1,\"id\":\"WBAN:93225\",\"elevationUnit\":\"METERS\",\"longitude\":-121.59479},{\"elevation\":18,\"mindate\":\"1999-01-01\",\"maxdate\":\"2005-06-07\",\"latitude\":35.66556,\"name\":\"SAN SIMEON POINT PIEDRAS BLANCAS, CA US\",\"datacoverage\":0.96,\"id\":\"WBAN:93226\",\"elevationUnit\":\"METERS\",\"longitude\":-121.28472},{\"elevation\":4.7,\"mindate\":\"2000-01-01\",\"maxdate\":\"2023-03-26\",\"latitude\":38.2075,\"name\":\"NAPA CO AIRPORT, CA US\",\"datacoverage\":1,\"id\":\"WBAN:93227\",\"elevationUnit\":\"METERS\",\"longitude\":-122.28041},{\"elevation\":9.6,\"mindate\":\"2000-01-01\",\"maxdate\":\"2023-03-26\",\"latitude\":37.65886,\"name\":\"HAYWARD AIR TERMINAL, CA US\",\"datacoverage\":1,\"id\":\"WBAN:93228\",\"elevationUnit\":\"METERS\",\"longitude\":-122.12116}]}'"
      ]
     },
     "execution_count": 5,
     "metadata": {},
     "output_type": "execute_result"
    }
   ],
   "source": [
    "response.text"
   ]
  },
  {
   "cell_type": "code",
   "execution_count": 7,
   "id": "6df4ea85-a90f-4662-822d-693b26c359fd",
   "metadata": {
    "tags": []
   },
   "outputs": [
    {
     "data": {
      "text/plain": [
       "202718"
      ]
     },
     "execution_count": 7,
     "metadata": {},
     "output_type": "execute_result"
    }
   ],
   "source": [
    "ca_stations = f\"https://www.ncei.noaa.gov/cdo-web/api/v2/stations?locationid=FIPS:06&limit=1000&offset=0\"\n",
    "head = {'token':'NtaLTUZoQTFKjelGNOqHHeoSVFClmpiN'}\n",
    "response = requests.get(ca_stations, headers=head)\n",
    "len(response.text)"
   ]
  },
  {
   "cell_type": "code",
   "execution_count": 8,
   "id": "bc41f70c-56f5-4105-95ca-e281f07e07fe",
   "metadata": {
    "tags": []
   },
   "outputs": [
    {
     "data": {
      "text/plain": [
       "200"
      ]
     },
     "execution_count": 8,
     "metadata": {},
     "output_type": "execute_result"
    }
   ],
   "source": [
    "response.status_code"
   ]
  },
  {
   "cell_type": "code",
   "execution_count": 9,
   "id": "d58b3c69-2fb2-491b-ba6a-6b5e1cc55c48",
   "metadata": {
    "tags": []
   },
   "outputs": [],
   "source": [
    "stations = []\n",
    "chunks = [0, 1000, 2000, 3000, 4000, 4543]\n",
    "for chunk in chunks:\n",
    "    # Get call to NOAA service\n",
    "    ca_stations = f\"https://www.ncei.noaa.gov/cdo-web/api/v2/stations?locationid=FIPS:06&limit=1000&offset={chunk}\"\n",
    "    head = {'token':'NtaLTUZoQTFKjelGNOqHHeoSVFClmpiN'}\n",
    "    response = requests.get(ca_stations, headers=head)\n",
    "\n",
    "    result = json.loads(response.text)"
   ]
  },
  {
   "cell_type": "code",
   "execution_count": 42,
   "id": "144f3428-ee93-4b48-b924-ddf5396c641c",
   "metadata": {
    "tags": []
   },
   "outputs": [
    {
     "name": "stderr",
     "output_type": "stream",
     "text": [
      "/var/folders/fs/x3qzg8qx4hqf2v_3rpk3d4yr0000gn/T/ipykernel_23301/2476493636.py:1: FutureWarning: Indexing with multiple keys (implicitly converted to a tuple of keys) will be deprecated, use a list instead.\n",
      "  gkk = df_noaa.groupby(['station', 'datatype'])['station', 'datatype', 'date', 'value']\n"
     ]
    },
    {
     "data": {
      "text/html": [
       "<div>\n",
       "<style scoped>\n",
       "    .dataframe tbody tr th:only-of-type {\n",
       "        vertical-align: middle;\n",
       "    }\n",
       "\n",
       "    .dataframe tbody tr th {\n",
       "        vertical-align: top;\n",
       "    }\n",
       "\n",
       "    .dataframe thead th {\n",
       "        text-align: right;\n",
       "    }\n",
       "</style>\n",
       "<table border=\"1\" class=\"dataframe\">\n",
       "  <thead>\n",
       "    <tr style=\"text-align: right;\">\n",
       "      <th></th>\n",
       "      <th></th>\n",
       "      <th>station</th>\n",
       "      <th>datatype</th>\n",
       "      <th>date</th>\n",
       "      <th>value</th>\n",
       "    </tr>\n",
       "    <tr>\n",
       "      <th>station</th>\n",
       "      <th>datatype</th>\n",
       "      <th></th>\n",
       "      <th></th>\n",
       "      <th></th>\n",
       "      <th></th>\n",
       "    </tr>\n",
       "  </thead>\n",
       "  <tbody>\n",
       "    <tr>\n",
       "      <th>GHCND:US1CAAL0012</th>\n",
       "      <th>PRCP</th>\n",
       "      <td>GHCND:US1CAAL0012</td>\n",
       "      <td>PRCP</td>\n",
       "      <td>2018-01-01</td>\n",
       "      <td>0.00</td>\n",
       "    </tr>\n",
       "    <tr>\n",
       "      <th>GHCND:US1CAAM0015</th>\n",
       "      <th>PRCP</th>\n",
       "      <td>GHCND:US1CAAM0015</td>\n",
       "      <td>PRCP</td>\n",
       "      <td>2020-10-09</td>\n",
       "      <td>0.00</td>\n",
       "    </tr>\n",
       "    <tr>\n",
       "      <th>GHCND:US1CALA0046</th>\n",
       "      <th>PRCP</th>\n",
       "      <td>GHCND:US1CALA0046</td>\n",
       "      <td>PRCP</td>\n",
       "      <td>2018-01-01</td>\n",
       "      <td>0.00</td>\n",
       "    </tr>\n",
       "    <tr>\n",
       "      <th>GHCND:US1CAMP0008</th>\n",
       "      <th>PRCP</th>\n",
       "      <td>GHCND:US1CAMP0008</td>\n",
       "      <td>PRCP</td>\n",
       "      <td>2018-01-01</td>\n",
       "      <td>0.00</td>\n",
       "    </tr>\n",
       "    <tr>\n",
       "      <th>GHCND:US1CASC0057</th>\n",
       "      <th>PRCP</th>\n",
       "      <td>GHCND:US1CASC0057</td>\n",
       "      <td>PRCP</td>\n",
       "      <td>2018-01-01</td>\n",
       "      <td>0.00</td>\n",
       "    </tr>\n",
       "    <tr>\n",
       "      <th>GHCND:US1CASD0053</th>\n",
       "      <th>PRCP</th>\n",
       "      <td>GHCND:US1CASD0053</td>\n",
       "      <td>PRCP</td>\n",
       "      <td>2018-01-01</td>\n",
       "      <td>0.00</td>\n",
       "    </tr>\n",
       "    <tr>\n",
       "      <th>GHCND:US1CASK0020</th>\n",
       "      <th>PRCP</th>\n",
       "      <td>GHCND:US1CASK0020</td>\n",
       "      <td>PRCP</td>\n",
       "      <td>2018-02-23</td>\n",
       "      <td>0.12</td>\n",
       "    </tr>\n",
       "    <tr>\n",
       "      <th>GHCND:US1CASZ0052</th>\n",
       "      <th>PRCP</th>\n",
       "      <td>GHCND:US1CASZ0052</td>\n",
       "      <td>PRCP</td>\n",
       "      <td>2018-11-28</td>\n",
       "      <td>0.52</td>\n",
       "    </tr>\n",
       "    <tr>\n",
       "      <th rowspan=\"3\" valign=\"top\">GHCND:USC00041697</th>\n",
       "      <th>PRCP</th>\n",
       "      <td>GHCND:USC00041697</td>\n",
       "      <td>PRCP</td>\n",
       "      <td>2018-01-02</td>\n",
       "      <td>0.00</td>\n",
       "    </tr>\n",
       "    <tr>\n",
       "      <th>TMAX</th>\n",
       "      <td>GHCND:USC00041697</td>\n",
       "      <td>TMAX</td>\n",
       "      <td>2018-01-02</td>\n",
       "      <td>63.00</td>\n",
       "    </tr>\n",
       "    <tr>\n",
       "      <th>TMIN</th>\n",
       "      <td>GHCND:USC00041697</td>\n",
       "      <td>TMIN</td>\n",
       "      <td>2018-01-02</td>\n",
       "      <td>41.00</td>\n",
       "    </tr>\n",
       "    <tr>\n",
       "      <th rowspan=\"2\" valign=\"top\">GHCND:USR0000CBAR</th>\n",
       "      <th>TMAX</th>\n",
       "      <td>GHCND:USR0000CBAR</td>\n",
       "      <td>TMAX</td>\n",
       "      <td>2018-01-01</td>\n",
       "      <td>65.00</td>\n",
       "    </tr>\n",
       "    <tr>\n",
       "      <th>TMIN</th>\n",
       "      <td>GHCND:USR0000CBAR</td>\n",
       "      <td>TMIN</td>\n",
       "      <td>2018-01-01</td>\n",
       "      <td>46.00</td>\n",
       "    </tr>\n",
       "    <tr>\n",
       "      <th rowspan=\"2\" valign=\"top\">GHCND:USR0000CCRE</th>\n",
       "      <th>TMAX</th>\n",
       "      <td>GHCND:USR0000CCRE</td>\n",
       "      <td>TMAX</td>\n",
       "      <td>2018-01-01</td>\n",
       "      <td>56.00</td>\n",
       "    </tr>\n",
       "    <tr>\n",
       "      <th>TMIN</th>\n",
       "      <td>GHCND:USR0000CCRE</td>\n",
       "      <td>TMIN</td>\n",
       "      <td>2018-01-01</td>\n",
       "      <td>23.00</td>\n",
       "    </tr>\n",
       "    <tr>\n",
       "      <th rowspan=\"2\" valign=\"top\">GHCND:USR0000CDGR</th>\n",
       "      <th>TMAX</th>\n",
       "      <td>GHCND:USR0000CDGR</td>\n",
       "      <td>TMAX</td>\n",
       "      <td>2018-01-01</td>\n",
       "      <td>55.00</td>\n",
       "    </tr>\n",
       "    <tr>\n",
       "      <th>TMIN</th>\n",
       "      <td>GHCND:USR0000CDGR</td>\n",
       "      <td>TMIN</td>\n",
       "      <td>2018-01-01</td>\n",
       "      <td>29.00</td>\n",
       "    </tr>\n",
       "    <tr>\n",
       "      <th rowspan=\"2\" valign=\"top\">GHCND:USR0000CHAY</th>\n",
       "      <th>TMAX</th>\n",
       "      <td>GHCND:USR0000CHAY</td>\n",
       "      <td>TMAX</td>\n",
       "      <td>2018-01-01</td>\n",
       "      <td>63.00</td>\n",
       "    </tr>\n",
       "    <tr>\n",
       "      <th>TMIN</th>\n",
       "      <td>GHCND:USR0000CHAY</td>\n",
       "      <td>TMIN</td>\n",
       "      <td>2018-01-01</td>\n",
       "      <td>30.00</td>\n",
       "    </tr>\n",
       "    <tr>\n",
       "      <th rowspan=\"2\" valign=\"top\">GHCND:USR0000CHNM</th>\n",
       "      <th>TMAX</th>\n",
       "      <td>GHCND:USR0000CHNM</td>\n",
       "      <td>TMAX</td>\n",
       "      <td>2018-01-01</td>\n",
       "      <td>60.00</td>\n",
       "    </tr>\n",
       "    <tr>\n",
       "      <th>TMIN</th>\n",
       "      <td>GHCND:USR0000CHNM</td>\n",
       "      <td>TMIN</td>\n",
       "      <td>2018-01-01</td>\n",
       "      <td>32.00</td>\n",
       "    </tr>\n",
       "    <tr>\n",
       "      <th rowspan=\"2\" valign=\"top\">GHCND:USR0000CSNL</th>\n",
       "      <th>TMAX</th>\n",
       "      <td>GHCND:USR0000CSNL</td>\n",
       "      <td>TMAX</td>\n",
       "      <td>2018-01-01</td>\n",
       "      <td>65.00</td>\n",
       "    </tr>\n",
       "    <tr>\n",
       "      <th>TMIN</th>\n",
       "      <td>GHCND:USR0000CSNL</td>\n",
       "      <td>TMIN</td>\n",
       "      <td>2018-01-01</td>\n",
       "      <td>37.00</td>\n",
       "    </tr>\n",
       "    <tr>\n",
       "      <th rowspan=\"3\" valign=\"top\">GHCND:USS0019L39S</th>\n",
       "      <th>PRCP</th>\n",
       "      <td>GHCND:USS0019L39S</td>\n",
       "      <td>PRCP</td>\n",
       "      <td>2018-01-01</td>\n",
       "      <td>0.00</td>\n",
       "    </tr>\n",
       "    <tr>\n",
       "      <th>TMAX</th>\n",
       "      <td>GHCND:USS0019L39S</td>\n",
       "      <td>TMAX</td>\n",
       "      <td>2018-01-01</td>\n",
       "      <td>55.00</td>\n",
       "    </tr>\n",
       "    <tr>\n",
       "      <th>TMIN</th>\n",
       "      <td>GHCND:USS0019L39S</td>\n",
       "      <td>TMIN</td>\n",
       "      <td>2018-01-01</td>\n",
       "      <td>30.00</td>\n",
       "    </tr>\n",
       "  </tbody>\n",
       "</table>\n",
       "</div>"
      ],
      "text/plain": [
       "                                      station datatype        date  value\n",
       "station           datatype                                               \n",
       "GHCND:US1CAAL0012 PRCP      GHCND:US1CAAL0012     PRCP  2018-01-01   0.00\n",
       "GHCND:US1CAAM0015 PRCP      GHCND:US1CAAM0015     PRCP  2020-10-09   0.00\n",
       "GHCND:US1CALA0046 PRCP      GHCND:US1CALA0046     PRCP  2018-01-01   0.00\n",
       "GHCND:US1CAMP0008 PRCP      GHCND:US1CAMP0008     PRCP  2018-01-01   0.00\n",
       "GHCND:US1CASC0057 PRCP      GHCND:US1CASC0057     PRCP  2018-01-01   0.00\n",
       "GHCND:US1CASD0053 PRCP      GHCND:US1CASD0053     PRCP  2018-01-01   0.00\n",
       "GHCND:US1CASK0020 PRCP      GHCND:US1CASK0020     PRCP  2018-02-23   0.12\n",
       "GHCND:US1CASZ0052 PRCP      GHCND:US1CASZ0052     PRCP  2018-11-28   0.52\n",
       "GHCND:USC00041697 PRCP      GHCND:USC00041697     PRCP  2018-01-02   0.00\n",
       "                  TMAX      GHCND:USC00041697     TMAX  2018-01-02  63.00\n",
       "                  TMIN      GHCND:USC00041697     TMIN  2018-01-02  41.00\n",
       "GHCND:USR0000CBAR TMAX      GHCND:USR0000CBAR     TMAX  2018-01-01  65.00\n",
       "                  TMIN      GHCND:USR0000CBAR     TMIN  2018-01-01  46.00\n",
       "GHCND:USR0000CCRE TMAX      GHCND:USR0000CCRE     TMAX  2018-01-01  56.00\n",
       "                  TMIN      GHCND:USR0000CCRE     TMIN  2018-01-01  23.00\n",
       "GHCND:USR0000CDGR TMAX      GHCND:USR0000CDGR     TMAX  2018-01-01  55.00\n",
       "                  TMIN      GHCND:USR0000CDGR     TMIN  2018-01-01  29.00\n",
       "GHCND:USR0000CHAY TMAX      GHCND:USR0000CHAY     TMAX  2018-01-01  63.00\n",
       "                  TMIN      GHCND:USR0000CHAY     TMIN  2018-01-01  30.00\n",
       "GHCND:USR0000CHNM TMAX      GHCND:USR0000CHNM     TMAX  2018-01-01  60.00\n",
       "                  TMIN      GHCND:USR0000CHNM     TMIN  2018-01-01  32.00\n",
       "GHCND:USR0000CSNL TMAX      GHCND:USR0000CSNL     TMAX  2018-01-01  65.00\n",
       "                  TMIN      GHCND:USR0000CSNL     TMIN  2018-01-01  37.00\n",
       "GHCND:USS0019L39S PRCP      GHCND:USS0019L39S     PRCP  2018-01-01   0.00\n",
       "                  TMAX      GHCND:USS0019L39S     TMAX  2018-01-01  55.00\n",
       "                  TMIN      GHCND:USS0019L39S     TMIN  2018-01-01  30.00"
      ]
     },
     "execution_count": 42,
     "metadata": {},
     "output_type": "execute_result"
    }
   ],
   "source": [
    "gkk = df_noaa.groupby(['station', 'datatype'])['station', 'datatype', 'date', 'value']\n",
    "gkk.first()"
   ]
  },
  {
   "cell_type": "code",
   "execution_count": 11,
   "id": "f809bb56-92c3-427b-891d-6fefbc7e5d0e",
   "metadata": {
    "tags": []
   },
   "outputs": [
    {
     "ename": "NameError",
     "evalue": "name 'closest_station' is not defined",
     "output_type": "error",
     "traceback": [
      "\u001b[0;31m---------------------------------------------------------------------------\u001b[0m",
      "\u001b[0;31mNameError\u001b[0m                                 Traceback (most recent call last)",
      "Cell \u001b[0;32mIn[11], line 5\u001b[0m\n\u001b[1;32m      3\u001b[0m enddates \u001b[38;5;241m=\u001b[39m   [\u001b[38;5;124m'\u001b[39m\u001b[38;5;124m2018-12-31\u001b[39m\u001b[38;5;124m'\u001b[39m, \u001b[38;5;124m'\u001b[39m\u001b[38;5;124m2019-12-31\u001b[39m\u001b[38;5;124m'\u001b[39m, \u001b[38;5;124m'\u001b[39m\u001b[38;5;124m2020-12-31\u001b[39m\u001b[38;5;124m'\u001b[39m, \u001b[38;5;124m'\u001b[39m\u001b[38;5;124m2021-12-31\u001b[39m\u001b[38;5;124m'\u001b[39m, \u001b[38;5;124m'\u001b[39m\u001b[38;5;124m2022-12-31\u001b[39m\u001b[38;5;124m'\u001b[39m]\n\u001b[1;32m      4\u001b[0m \u001b[38;5;28;01mfor\u001b[39;00m startdate, enddate \u001b[38;5;129;01min\u001b[39;00m \u001b[38;5;28mzip\u001b[39m(startdates, enddates):\n\u001b[0;32m----> 5\u001b[0m     \u001b[38;5;28;01mfor\u001b[39;00m i \u001b[38;5;129;01min\u001b[39;00m \u001b[38;5;28mrange\u001b[39m(\u001b[43mclosest_station\u001b[49m\u001b[38;5;241m.\u001b[39mshape[\u001b[38;5;241m0\u001b[39m]):\n\u001b[1;32m      6\u001b[0m         station_code \u001b[38;5;241m=\u001b[39m closest_station\u001b[38;5;241m.\u001b[39miloc[i, \u001b[38;5;241m0\u001b[39m]\n\u001b[1;32m      8\u001b[0m         \u001b[38;5;28mprint\u001b[39m(\u001b[38;5;124mf\u001b[39m\u001b[38;5;124m\"\u001b[39m\u001b[38;5;124mGetting temperature data from station \u001b[39m\u001b[38;5;132;01m{\u001b[39;00mi\u001b[38;5;250m \u001b[39m\u001b[38;5;241m+\u001b[39m\u001b[38;5;250m \u001b[39m\u001b[38;5;241m1\u001b[39m\u001b[38;5;132;01m}\u001b[39;00m\u001b[38;5;124m of \u001b[39m\u001b[38;5;132;01m{\u001b[39;00mclosest_station\u001b[38;5;241m.\u001b[39mshape[\u001b[38;5;241m0\u001b[39m]\u001b[38;5;132;01m}\u001b[39;00m\u001b[38;5;124m for \u001b[39m\u001b[38;5;132;01m{\u001b[39;00mstartdate\u001b[38;5;132;01m}\u001b[39;00m\u001b[38;5;124m to \u001b[39m\u001b[38;5;132;01m{\u001b[39;00menddate\u001b[38;5;132;01m}\u001b[39;00m\u001b[38;5;124m\"\u001b[39m, end\u001b[38;5;241m=\u001b[39m\u001b[38;5;124m'\u001b[39m\u001b[38;5;130;01m\\r\u001b[39;00m\u001b[38;5;124m'\u001b[39m)\n",
      "\u001b[0;31mNameError\u001b[0m: name 'closest_station' is not defined"
     ]
    }
   ],
   "source": [
    "daily_temperature = []\n",
    "startdates = ['2018-01-01', '2019-01-01', '2020-01-01', '2021-01-01', '2022-01-01']\n",
    "enddates =   ['2018-12-31', '2019-12-31', '2020-12-31', '2021-12-31', '2022-12-31']\n",
    "for startdate, enddate in zip(startdates, enddates):\n",
    "    for i in range(closest_station.shape[0]):\n",
    "        station_code = closest_station.iloc[i, 0]\n",
    "\n",
    "        print(f\"Getting temperature data from station {i + 1} of {closest_station.shape[0]} for {startdate} to {enddate}\", end='\\r')\n",
    "        data = f\"https://www.ncei.noaa.gov/cdo-web/api/v2/data?datasetid=GHCND&stationid={station_code}&datatypeid=TMIN&datatypeid=TMAX&startdate={startdate}&enddate={enddate}&units=standard&limit=1000\"\n",
    "        head = {'token':'NtaLTUZoQTFKjelGNOqHHeoSVFClmpiN'}\n",
    "        response = requests.get(data, headers=head)\n",
    "        if response.status_code != 204 and len(response.text) != 0:\n",
    "            results = json.loads(response.text)\n",
    "            daily_temperature.append(results)"
   ]
  },
  {
   "cell_type": "code",
   "execution_count": 88,
   "id": "66bfc8fe-d2cf-40c6-bbd5-6429d8fa3f18",
   "metadata": {
    "tags": []
   },
   "outputs": [
    {
     "data": {
      "text/html": [
       "<div>\n",
       "<style scoped>\n",
       "    .dataframe tbody tr th:only-of-type {\n",
       "        vertical-align: middle;\n",
       "    }\n",
       "\n",
       "    .dataframe tbody tr th {\n",
       "        vertical-align: top;\n",
       "    }\n",
       "\n",
       "    .dataframe thead th {\n",
       "        text-align: right;\n",
       "    }\n",
       "</style>\n",
       "<table border=\"1\" class=\"dataframe\">\n",
       "  <thead>\n",
       "    <tr style=\"text-align: right;\">\n",
       "      <th></th>\n",
       "      <th>date</th>\n",
       "      <th>datatype</th>\n",
       "      <th>station</th>\n",
       "      <th>value</th>\n",
       "    </tr>\n",
       "  </thead>\n",
       "  <tbody>\n",
       "    <tr>\n",
       "      <th>0</th>\n",
       "      <td>2018-01-01</td>\n",
       "      <td>PRCP</td>\n",
       "      <td>GHCND:US1CAAL0012</td>\n",
       "      <td>0.0</td>\n",
       "    </tr>\n",
       "    <tr>\n",
       "      <th>1</th>\n",
       "      <td>2018-01-01</td>\n",
       "      <td>PRCP</td>\n",
       "      <td>GHCND:US1CALA0046</td>\n",
       "      <td>0.0</td>\n",
       "    </tr>\n",
       "    <tr>\n",
       "      <th>2</th>\n",
       "      <td>2018-01-01</td>\n",
       "      <td>PRCP</td>\n",
       "      <td>GHCND:US1CAMP0008</td>\n",
       "      <td>0.0</td>\n",
       "    </tr>\n",
       "    <tr>\n",
       "      <th>3</th>\n",
       "      <td>2018-01-01</td>\n",
       "      <td>PRCP</td>\n",
       "      <td>GHCND:US1CASC0057</td>\n",
       "      <td>0.0</td>\n",
       "    </tr>\n",
       "    <tr>\n",
       "      <th>4</th>\n",
       "      <td>2018-01-01</td>\n",
       "      <td>PRCP</td>\n",
       "      <td>GHCND:US1CASD0053</td>\n",
       "      <td>0.0</td>\n",
       "    </tr>\n",
       "    <tr>\n",
       "      <th>5</th>\n",
       "      <td>2018-01-01</td>\n",
       "      <td>TMAX</td>\n",
       "      <td>GHCND:USR0000CBAR</td>\n",
       "      <td>65.0</td>\n",
       "    </tr>\n",
       "    <tr>\n",
       "      <th>6</th>\n",
       "      <td>2018-01-01</td>\n",
       "      <td>TMIN</td>\n",
       "      <td>GHCND:USR0000CBAR</td>\n",
       "      <td>46.0</td>\n",
       "    </tr>\n",
       "    <tr>\n",
       "      <th>7</th>\n",
       "      <td>2018-01-01</td>\n",
       "      <td>TMAX</td>\n",
       "      <td>GHCND:USR0000CCRE</td>\n",
       "      <td>56.0</td>\n",
       "    </tr>\n",
       "    <tr>\n",
       "      <th>8</th>\n",
       "      <td>2018-01-01</td>\n",
       "      <td>TMIN</td>\n",
       "      <td>GHCND:USR0000CCRE</td>\n",
       "      <td>23.0</td>\n",
       "    </tr>\n",
       "    <tr>\n",
       "      <th>9</th>\n",
       "      <td>2018-01-01</td>\n",
       "      <td>TMAX</td>\n",
       "      <td>GHCND:USR0000CDGR</td>\n",
       "      <td>55.0</td>\n",
       "    </tr>\n",
       "  </tbody>\n",
       "</table>\n",
       "</div>"
      ],
      "text/plain": [
       "         date datatype            station  value\n",
       "0  2018-01-01     PRCP  GHCND:US1CAAL0012    0.0\n",
       "1  2018-01-01     PRCP  GHCND:US1CALA0046    0.0\n",
       "2  2018-01-01     PRCP  GHCND:US1CAMP0008    0.0\n",
       "3  2018-01-01     PRCP  GHCND:US1CASC0057    0.0\n",
       "4  2018-01-01     PRCP  GHCND:US1CASD0053    0.0\n",
       "5  2018-01-01     TMAX  GHCND:USR0000CBAR   65.0\n",
       "6  2018-01-01     TMIN  GHCND:USR0000CBAR   46.0\n",
       "7  2018-01-01     TMAX  GHCND:USR0000CCRE   56.0\n",
       "8  2018-01-01     TMIN  GHCND:USR0000CCRE   23.0\n",
       "9  2018-01-01     TMAX  GHCND:USR0000CDGR   55.0"
      ]
     },
     "execution_count": 88,
     "metadata": {},
     "output_type": "execute_result"
    }
   ],
   "source": [
    "df_noaa = pd.read_csv('data/weather.csv')\n",
    "df_noaa.head(10)"
   ]
  },
  {
   "cell_type": "code",
   "execution_count": 47,
   "id": "468c63ac-f586-46a9-b316-9caabfd78738",
   "metadata": {
    "tags": []
   },
   "outputs": [
    {
     "ename": "AttributeError",
     "evalue": "'DataFrameGroupBy' object has no attribute 'values'",
     "output_type": "error",
     "traceback": [
      "\u001b[0;31m---------------------------------------------------------------------------\u001b[0m",
      "\u001b[0;31mAttributeError\u001b[0m                            Traceback (most recent call last)",
      "Cell \u001b[0;32mIn[47], line 1\u001b[0m\n\u001b[0;32m----> 1\u001b[0m \u001b[43mgkk\u001b[49m\u001b[38;5;241;43m.\u001b[39;49m\u001b[43mvalues\u001b[49m\n",
      "File \u001b[0;32m~/opt/anaconda3/envs/cdfw-model1/lib/python3.9/site-packages/pandas/core/groupby/groupby.py:987\u001b[0m, in \u001b[0;36mGroupBy.__getattr__\u001b[0;34m(self, attr)\u001b[0m\n\u001b[1;32m    984\u001b[0m \u001b[38;5;28;01mif\u001b[39;00m attr \u001b[38;5;129;01min\u001b[39;00m \u001b[38;5;28mself\u001b[39m\u001b[38;5;241m.\u001b[39mobj:\n\u001b[1;32m    985\u001b[0m     \u001b[38;5;28;01mreturn\u001b[39;00m \u001b[38;5;28mself\u001b[39m[attr]\n\u001b[0;32m--> 987\u001b[0m \u001b[38;5;28;01mraise\u001b[39;00m \u001b[38;5;167;01mAttributeError\u001b[39;00m(\n\u001b[1;32m    988\u001b[0m     \u001b[38;5;124mf\u001b[39m\u001b[38;5;124m\"\u001b[39m\u001b[38;5;124m'\u001b[39m\u001b[38;5;132;01m{\u001b[39;00m\u001b[38;5;28mtype\u001b[39m(\u001b[38;5;28mself\u001b[39m)\u001b[38;5;241m.\u001b[39m\u001b[38;5;18m__name__\u001b[39m\u001b[38;5;132;01m}\u001b[39;00m\u001b[38;5;124m'\u001b[39m\u001b[38;5;124m object has no attribute \u001b[39m\u001b[38;5;124m'\u001b[39m\u001b[38;5;132;01m{\u001b[39;00mattr\u001b[38;5;132;01m}\u001b[39;00m\u001b[38;5;124m'\u001b[39m\u001b[38;5;124m\"\u001b[39m\n\u001b[1;32m    989\u001b[0m )\n",
      "\u001b[0;31mAttributeError\u001b[0m: 'DataFrameGroupBy' object has no attribute 'values'"
     ]
    }
   ],
   "source": [
    "gkk.values"
   ]
  },
  {
   "cell_type": "code",
   "execution_count": 37,
   "id": "5b356754-49b6-4aee-8b3f-5b457b640557",
   "metadata": {
    "tags": []
   },
   "outputs": [
    {
     "data": {
      "text/plain": [
       "dict_keys([('GHCND:US1CAAL0012', 'PRCP'), ('GHCND:US1CAAM0015', 'PRCP'), ('GHCND:US1CALA0046', 'PRCP'), ('GHCND:US1CAMP0008', 'PRCP'), ('GHCND:US1CASC0057', 'PRCP'), ('GHCND:US1CASD0053', 'PRCP'), ('GHCND:US1CASK0020', 'PRCP'), ('GHCND:US1CASZ0052', 'PRCP'), ('GHCND:USC00041697', 'PRCP'), ('GHCND:USC00041697', 'TMAX'), ('GHCND:USC00041697', 'TMIN'), ('GHCND:USR0000CBAR', 'TMAX'), ('GHCND:USR0000CBAR', 'TMIN'), ('GHCND:USR0000CCRE', 'TMAX'), ('GHCND:USR0000CCRE', 'TMIN'), ('GHCND:USR0000CDGR', 'TMAX'), ('GHCND:USR0000CDGR', 'TMIN'), ('GHCND:USR0000CHAY', 'TMAX'), ('GHCND:USR0000CHAY', 'TMIN'), ('GHCND:USR0000CHNM', 'TMAX'), ('GHCND:USR0000CHNM', 'TMIN'), ('GHCND:USR0000CSNL', 'TMAX'), ('GHCND:USR0000CSNL', 'TMIN'), ('GHCND:USS0019L39S', 'PRCP'), ('GHCND:USS0019L39S', 'TMAX'), ('GHCND:USS0019L39S', 'TMIN')])"
      ]
     },
     "execution_count": 37,
     "metadata": {},
     "output_type": "execute_result"
    }
   ],
   "source": [
    "v = gkk.groups.keys()"
   ]
  },
  {
   "cell_type": "code",
   "execution_count": 44,
   "id": "1a58db94-dbfc-4e55-bfc3-e73bdbea937b",
   "metadata": {
    "tags": []
   },
   "outputs": [
    {
     "ename": "TypeError",
     "evalue": "'dict_keys' object is not subscriptable",
     "output_type": "error",
     "traceback": [
      "\u001b[0;31m---------------------------------------------------------------------------\u001b[0m",
      "\u001b[0;31mTypeError\u001b[0m                                 Traceback (most recent call last)",
      "Cell \u001b[0;32mIn[44], line 2\u001b[0m\n\u001b[1;32m      1\u001b[0m f \u001b[38;5;241m=\u001b[39m \u001b[38;5;28;01mlambda\u001b[39;00m x: x[\u001b[38;5;241m1\u001b[39m]\n\u001b[0;32m----> 2\u001b[0m \u001b[43mf\u001b[49m\u001b[43m(\u001b[49m\u001b[43mgkk\u001b[49m\u001b[38;5;241;43m.\u001b[39;49m\u001b[43mgroups\u001b[49m\u001b[38;5;241;43m.\u001b[39;49m\u001b[43mkeys\u001b[49m\u001b[43m(\u001b[49m\u001b[43m)\u001b[49m\u001b[43m)\u001b[49m\n",
      "Cell \u001b[0;32mIn[44], line 1\u001b[0m, in \u001b[0;36m<lambda>\u001b[0;34m(x)\u001b[0m\n\u001b[0;32m----> 1\u001b[0m f \u001b[38;5;241m=\u001b[39m \u001b[38;5;28;01mlambda\u001b[39;00m x: \u001b[43mx\u001b[49m\u001b[43m[\u001b[49m\u001b[38;5;241;43m1\u001b[39;49m\u001b[43m]\u001b[49m\n\u001b[1;32m      2\u001b[0m f(gkk\u001b[38;5;241m.\u001b[39mgroups\u001b[38;5;241m.\u001b[39mkeys())\n",
      "\u001b[0;31mTypeError\u001b[0m: 'dict_keys' object is not subscriptable"
     ]
    }
   ],
   "source": [
    "f = lambda x: x[1]\n",
    "f(gkk.groups.keys())"
   ]
  },
  {
   "cell_type": "code",
   "execution_count": 31,
   "id": "dec4e61f-05de-40a0-8e8b-2e4e71dd7fca",
   "metadata": {
    "tags": []
   },
   "outputs": [
    {
     "data": {
      "text/plain": [
       "station            datatype\n",
       "GHCND:US1CAAL0012  PRCP        PRCP\n",
       "GHCND:US1CAAM0015  PRCP        PRCP\n",
       "GHCND:US1CALA0046  PRCP        PRCP\n",
       "GHCND:US1CAMP0008  PRCP        PRCP\n",
       "GHCND:US1CASC0057  PRCP        PRCP\n",
       "GHCND:US1CASD0053  PRCP        PRCP\n",
       "GHCND:US1CASK0020  PRCP        PRCP\n",
       "GHCND:US1CASZ0052  PRCP        PRCP\n",
       "GHCND:USC00041697  PRCP        PRCP\n",
       "                   TMAX        TMAX\n",
       "                   TMIN        TMIN\n",
       "GHCND:USR0000CBAR  TMAX        TMAX\n",
       "                   TMIN        TMIN\n",
       "GHCND:USR0000CCRE  TMAX        TMAX\n",
       "                   TMIN        TMIN\n",
       "GHCND:USR0000CDGR  TMAX        TMAX\n",
       "                   TMIN        TMIN\n",
       "GHCND:USR0000CHAY  TMAX        TMAX\n",
       "                   TMIN        TMIN\n",
       "GHCND:USR0000CHNM  TMAX        TMAX\n",
       "                   TMIN        TMIN\n",
       "GHCND:USR0000CSNL  TMAX        TMAX\n",
       "                   TMIN        TMIN\n",
       "GHCND:USS0019L39S  PRCP        PRCP\n",
       "                   TMAX        TMAX\n",
       "                   TMIN        TMIN\n",
       "Name: datatype, dtype: object"
      ]
     },
     "execution_count": 31,
     "metadata": {},
     "output_type": "execute_result"
    }
   ],
   "source": [
    "gkk['datatype'].first()"
   ]
  },
  {
   "cell_type": "code",
   "execution_count": 50,
   "id": "0d4638cd-79fc-4a2f-aa05-a9d31e9bf13d",
   "metadata": {
    "tags": []
   },
   "outputs": [
    {
     "data": {
      "text/html": [
       "<div>\n",
       "<style scoped>\n",
       "    .dataframe tbody tr th:only-of-type {\n",
       "        vertical-align: middle;\n",
       "    }\n",
       "\n",
       "    .dataframe tbody tr th {\n",
       "        vertical-align: top;\n",
       "    }\n",
       "\n",
       "    .dataframe thead th {\n",
       "        text-align: right;\n",
       "    }\n",
       "</style>\n",
       "<table border=\"1\" class=\"dataframe\">\n",
       "  <thead>\n",
       "    <tr style=\"text-align: right;\">\n",
       "      <th></th>\n",
       "      <th></th>\n",
       "      <th></th>\n",
       "      <th>value</th>\n",
       "    </tr>\n",
       "    <tr>\n",
       "      <th>station</th>\n",
       "      <th>date</th>\n",
       "      <th>datatype</th>\n",
       "      <th></th>\n",
       "    </tr>\n",
       "  </thead>\n",
       "  <tbody>\n",
       "    <tr>\n",
       "      <th rowspan=\"5\" valign=\"top\">GHCND:US1CAAL0012</th>\n",
       "      <th>2018-01-01</th>\n",
       "      <th>PRCP</th>\n",
       "      <td>0.00</td>\n",
       "    </tr>\n",
       "    <tr>\n",
       "      <th>2018-01-02</th>\n",
       "      <th>PRCP</th>\n",
       "      <td>0.00</td>\n",
       "    </tr>\n",
       "    <tr>\n",
       "      <th>2018-01-03</th>\n",
       "      <th>PRCP</th>\n",
       "      <td>0.00</td>\n",
       "    </tr>\n",
       "    <tr>\n",
       "      <th>2018-01-04</th>\n",
       "      <th>PRCP</th>\n",
       "      <td>0.26</td>\n",
       "    </tr>\n",
       "    <tr>\n",
       "      <th>2018-01-05</th>\n",
       "      <th>PRCP</th>\n",
       "      <td>0.00</td>\n",
       "    </tr>\n",
       "    <tr>\n",
       "      <th>...</th>\n",
       "      <th>...</th>\n",
       "      <th>...</th>\n",
       "      <td>...</td>\n",
       "    </tr>\n",
       "    <tr>\n",
       "      <th rowspan=\"5\" valign=\"top\">GHCND:USS0019L39S</th>\n",
       "      <th rowspan=\"2\" valign=\"top\">2022-12-30</th>\n",
       "      <th>TMAX</th>\n",
       "      <td>46.00</td>\n",
       "    </tr>\n",
       "    <tr>\n",
       "      <th>TMIN</th>\n",
       "      <td>40.00</td>\n",
       "    </tr>\n",
       "    <tr>\n",
       "      <th rowspan=\"3\" valign=\"top\">2022-12-31</th>\n",
       "      <th>PRCP</th>\n",
       "      <td>5.00</td>\n",
       "    </tr>\n",
       "    <tr>\n",
       "      <th>TMAX</th>\n",
       "      <td>45.00</td>\n",
       "    </tr>\n",
       "    <tr>\n",
       "      <th>TMIN</th>\n",
       "      <td>31.00</td>\n",
       "    </tr>\n",
       "  </tbody>\n",
       "</table>\n",
       "<p>36689 rows × 1 columns</p>\n",
       "</div>"
      ],
      "text/plain": [
       "                                       value\n",
       "station           date       datatype       \n",
       "GHCND:US1CAAL0012 2018-01-01 PRCP       0.00\n",
       "                  2018-01-02 PRCP       0.00\n",
       "                  2018-01-03 PRCP       0.00\n",
       "                  2018-01-04 PRCP       0.26\n",
       "                  2018-01-05 PRCP       0.00\n",
       "...                                      ...\n",
       "GHCND:USS0019L39S 2022-12-30 TMAX      46.00\n",
       "                             TMIN      40.00\n",
       "                  2022-12-31 PRCP       5.00\n",
       "                             TMAX      45.00\n",
       "                             TMIN      31.00\n",
       "\n",
       "[36689 rows x 1 columns]"
      ]
     },
     "execution_count": 50,
     "metadata": {},
     "output_type": "execute_result"
    }
   ],
   "source": [
    "gkk = df_noaa.groupby(['station', 'date', 'datatype'])\n",
    "gkk.first()"
   ]
  },
  {
   "cell_type": "code",
   "execution_count": 51,
   "id": "c6ad4bda-2529-401c-b82d-738d9b083f85",
   "metadata": {
    "tags": []
   },
   "outputs": [
    {
     "data": {
      "text/html": [
       "<div>\n",
       "<style scoped>\n",
       "    .dataframe tbody tr th:only-of-type {\n",
       "        vertical-align: middle;\n",
       "    }\n",
       "\n",
       "    .dataframe tbody tr th {\n",
       "        vertical-align: top;\n",
       "    }\n",
       "\n",
       "    .dataframe thead th {\n",
       "        text-align: right;\n",
       "    }\n",
       "</style>\n",
       "<table border=\"1\" class=\"dataframe\">\n",
       "  <thead>\n",
       "    <tr style=\"text-align: right;\">\n",
       "      <th></th>\n",
       "      <th>date</th>\n",
       "      <th>datatype</th>\n",
       "      <th>station</th>\n",
       "      <th>value</th>\n",
       "    </tr>\n",
       "  </thead>\n",
       "  <tbody>\n",
       "    <tr>\n",
       "      <th>0</th>\n",
       "      <td>2018-01-01</td>\n",
       "      <td>PRCP</td>\n",
       "      <td>GHCND:US1CAAL0012</td>\n",
       "      <td>0.0</td>\n",
       "    </tr>\n",
       "    <tr>\n",
       "      <th>1</th>\n",
       "      <td>2018-01-01</td>\n",
       "      <td>PRCP</td>\n",
       "      <td>GHCND:US1CALA0046</td>\n",
       "      <td>0.0</td>\n",
       "    </tr>\n",
       "    <tr>\n",
       "      <th>2</th>\n",
       "      <td>2018-01-01</td>\n",
       "      <td>PRCP</td>\n",
       "      <td>GHCND:US1CAMP0008</td>\n",
       "      <td>0.0</td>\n",
       "    </tr>\n",
       "    <tr>\n",
       "      <th>3</th>\n",
       "      <td>2018-01-01</td>\n",
       "      <td>PRCP</td>\n",
       "      <td>GHCND:US1CASC0057</td>\n",
       "      <td>0.0</td>\n",
       "    </tr>\n",
       "    <tr>\n",
       "      <th>4</th>\n",
       "      <td>2018-01-01</td>\n",
       "      <td>PRCP</td>\n",
       "      <td>GHCND:US1CASD0053</td>\n",
       "      <td>0.0</td>\n",
       "    </tr>\n",
       "    <tr>\n",
       "      <th>5</th>\n",
       "      <td>2018-01-01</td>\n",
       "      <td>TMAX</td>\n",
       "      <td>GHCND:USR0000CBAR</td>\n",
       "      <td>65.0</td>\n",
       "    </tr>\n",
       "    <tr>\n",
       "      <th>6</th>\n",
       "      <td>2018-01-01</td>\n",
       "      <td>TMIN</td>\n",
       "      <td>GHCND:USR0000CBAR</td>\n",
       "      <td>46.0</td>\n",
       "    </tr>\n",
       "    <tr>\n",
       "      <th>7</th>\n",
       "      <td>2018-01-01</td>\n",
       "      <td>TMAX</td>\n",
       "      <td>GHCND:USR0000CCRE</td>\n",
       "      <td>56.0</td>\n",
       "    </tr>\n",
       "    <tr>\n",
       "      <th>8</th>\n",
       "      <td>2018-01-01</td>\n",
       "      <td>TMIN</td>\n",
       "      <td>GHCND:USR0000CCRE</td>\n",
       "      <td>23.0</td>\n",
       "    </tr>\n",
       "    <tr>\n",
       "      <th>9</th>\n",
       "      <td>2018-01-01</td>\n",
       "      <td>TMAX</td>\n",
       "      <td>GHCND:USR0000CDGR</td>\n",
       "      <td>55.0</td>\n",
       "    </tr>\n",
       "    <tr>\n",
       "      <th>10</th>\n",
       "      <td>2018-01-01</td>\n",
       "      <td>TMIN</td>\n",
       "      <td>GHCND:USR0000CDGR</td>\n",
       "      <td>29.0</td>\n",
       "    </tr>\n",
       "    <tr>\n",
       "      <th>11</th>\n",
       "      <td>2018-01-01</td>\n",
       "      <td>TMAX</td>\n",
       "      <td>GHCND:USR0000CHAY</td>\n",
       "      <td>63.0</td>\n",
       "    </tr>\n",
       "    <tr>\n",
       "      <th>12</th>\n",
       "      <td>2018-01-01</td>\n",
       "      <td>TMIN</td>\n",
       "      <td>GHCND:USR0000CHAY</td>\n",
       "      <td>30.0</td>\n",
       "    </tr>\n",
       "    <tr>\n",
       "      <th>13</th>\n",
       "      <td>2018-01-01</td>\n",
       "      <td>TMAX</td>\n",
       "      <td>GHCND:USR0000CHNM</td>\n",
       "      <td>60.0</td>\n",
       "    </tr>\n",
       "    <tr>\n",
       "      <th>14</th>\n",
       "      <td>2018-01-01</td>\n",
       "      <td>TMIN</td>\n",
       "      <td>GHCND:USR0000CHNM</td>\n",
       "      <td>32.0</td>\n",
       "    </tr>\n",
       "    <tr>\n",
       "      <th>15</th>\n",
       "      <td>2018-01-01</td>\n",
       "      <td>TMAX</td>\n",
       "      <td>GHCND:USR0000CSNL</td>\n",
       "      <td>65.0</td>\n",
       "    </tr>\n",
       "    <tr>\n",
       "      <th>16</th>\n",
       "      <td>2018-01-01</td>\n",
       "      <td>TMIN</td>\n",
       "      <td>GHCND:USR0000CSNL</td>\n",
       "      <td>37.0</td>\n",
       "    </tr>\n",
       "    <tr>\n",
       "      <th>17</th>\n",
       "      <td>2018-01-01</td>\n",
       "      <td>PRCP</td>\n",
       "      <td>GHCND:USS0019L39S</td>\n",
       "      <td>0.0</td>\n",
       "    </tr>\n",
       "    <tr>\n",
       "      <th>18</th>\n",
       "      <td>2018-01-01</td>\n",
       "      <td>TMAX</td>\n",
       "      <td>GHCND:USS0019L39S</td>\n",
       "      <td>55.0</td>\n",
       "    </tr>\n",
       "    <tr>\n",
       "      <th>19</th>\n",
       "      <td>2018-01-01</td>\n",
       "      <td>TMIN</td>\n",
       "      <td>GHCND:USS0019L39S</td>\n",
       "      <td>30.0</td>\n",
       "    </tr>\n",
       "  </tbody>\n",
       "</table>\n",
       "</div>"
      ],
      "text/plain": [
       "          date datatype            station  value\n",
       "0   2018-01-01     PRCP  GHCND:US1CAAL0012    0.0\n",
       "1   2018-01-01     PRCP  GHCND:US1CALA0046    0.0\n",
       "2   2018-01-01     PRCP  GHCND:US1CAMP0008    0.0\n",
       "3   2018-01-01     PRCP  GHCND:US1CASC0057    0.0\n",
       "4   2018-01-01     PRCP  GHCND:US1CASD0053    0.0\n",
       "5   2018-01-01     TMAX  GHCND:USR0000CBAR   65.0\n",
       "6   2018-01-01     TMIN  GHCND:USR0000CBAR   46.0\n",
       "7   2018-01-01     TMAX  GHCND:USR0000CCRE   56.0\n",
       "8   2018-01-01     TMIN  GHCND:USR0000CCRE   23.0\n",
       "9   2018-01-01     TMAX  GHCND:USR0000CDGR   55.0\n",
       "10  2018-01-01     TMIN  GHCND:USR0000CDGR   29.0\n",
       "11  2018-01-01     TMAX  GHCND:USR0000CHAY   63.0\n",
       "12  2018-01-01     TMIN  GHCND:USR0000CHAY   30.0\n",
       "13  2018-01-01     TMAX  GHCND:USR0000CHNM   60.0\n",
       "14  2018-01-01     TMIN  GHCND:USR0000CHNM   32.0\n",
       "15  2018-01-01     TMAX  GHCND:USR0000CSNL   65.0\n",
       "16  2018-01-01     TMIN  GHCND:USR0000CSNL   37.0\n",
       "17  2018-01-01     PRCP  GHCND:USS0019L39S    0.0\n",
       "18  2018-01-01     TMAX  GHCND:USS0019L39S   55.0\n",
       "19  2018-01-01     TMIN  GHCND:USS0019L39S   30.0"
      ]
     },
     "execution_count": 51,
     "metadata": {},
     "output_type": "execute_result"
    }
   ],
   "source": [
    "df_noaa.head(20)"
   ]
  },
  {
   "cell_type": "code",
   "execution_count": 55,
   "id": "030ce3d0-e3dc-47e6-bc81-dac5d5f56265",
   "metadata": {
    "tags": []
   },
   "outputs": [
    {
     "data": {
      "text/plain": [
       "array(['2018-01-01', '2018-01-02', '2018-01-03', ..., '2022-12-29',\n",
       "       '2022-12-30', '2022-12-31'], dtype=object)"
      ]
     },
     "execution_count": 55,
     "metadata": {},
     "output_type": "execute_result"
    }
   ],
   "source": [
    "dates = df_noaa['date'].unique()\n",
    "dates"
   ]
  },
  {
   "cell_type": "code",
   "execution_count": 56,
   "id": "6bdaa549-9c00-40f2-8f62-9682181ca286",
   "metadata": {
    "tags": []
   },
   "outputs": [
    {
     "data": {
      "text/plain": [
       "1826"
      ]
     },
     "execution_count": 56,
     "metadata": {},
     "output_type": "execute_result"
    }
   ],
   "source": [
    "len(dates)"
   ]
  },
  {
   "cell_type": "code",
   "execution_count": 89,
   "id": "5b1f540a-0ee8-4ec4-97cc-f5b8f9e7f496",
   "metadata": {
    "tags": []
   },
   "outputs": [
    {
     "data": {
      "text/html": [
       "<div>\n",
       "<style scoped>\n",
       "    .dataframe tbody tr th:only-of-type {\n",
       "        vertical-align: middle;\n",
       "    }\n",
       "\n",
       "    .dataframe tbody tr th {\n",
       "        vertical-align: top;\n",
       "    }\n",
       "\n",
       "    .dataframe thead th {\n",
       "        text-align: right;\n",
       "    }\n",
       "</style>\n",
       "<table border=\"1\" class=\"dataframe\">\n",
       "  <thead>\n",
       "    <tr style=\"text-align: right;\">\n",
       "      <th></th>\n",
       "      <th>date</th>\n",
       "      <th>station</th>\n",
       "    </tr>\n",
       "  </thead>\n",
       "  <tbody>\n",
       "    <tr>\n",
       "      <th>0</th>\n",
       "      <td>2018-01-01</td>\n",
       "      <td>GHCND:US1CAAL0012</td>\n",
       "    </tr>\n",
       "    <tr>\n",
       "      <th>1</th>\n",
       "      <td>2018-01-01</td>\n",
       "      <td>GHCND:US1CALA0046</td>\n",
       "    </tr>\n",
       "    <tr>\n",
       "      <th>2</th>\n",
       "      <td>2018-01-01</td>\n",
       "      <td>GHCND:US1CAMP0008</td>\n",
       "    </tr>\n",
       "    <tr>\n",
       "      <th>3</th>\n",
       "      <td>2018-01-01</td>\n",
       "      <td>GHCND:US1CASC0057</td>\n",
       "    </tr>\n",
       "    <tr>\n",
       "      <th>4</th>\n",
       "      <td>2018-01-01</td>\n",
       "      <td>GHCND:US1CASD0053</td>\n",
       "    </tr>\n",
       "    <tr>\n",
       "      <th>5</th>\n",
       "      <td>2018-01-01</td>\n",
       "      <td>GHCND:USR0000CBAR</td>\n",
       "    </tr>\n",
       "    <tr>\n",
       "      <th>6</th>\n",
       "      <td>2018-01-01</td>\n",
       "      <td>GHCND:USR0000CBAR</td>\n",
       "    </tr>\n",
       "    <tr>\n",
       "      <th>7</th>\n",
       "      <td>2018-01-01</td>\n",
       "      <td>GHCND:USR0000CCRE</td>\n",
       "    </tr>\n",
       "    <tr>\n",
       "      <th>8</th>\n",
       "      <td>2018-01-01</td>\n",
       "      <td>GHCND:USR0000CCRE</td>\n",
       "    </tr>\n",
       "    <tr>\n",
       "      <th>9</th>\n",
       "      <td>2018-01-01</td>\n",
       "      <td>GHCND:USR0000CDGR</td>\n",
       "    </tr>\n",
       "    <tr>\n",
       "      <th>10</th>\n",
       "      <td>2018-01-01</td>\n",
       "      <td>GHCND:USR0000CDGR</td>\n",
       "    </tr>\n",
       "    <tr>\n",
       "      <th>11</th>\n",
       "      <td>2018-01-01</td>\n",
       "      <td>GHCND:USR0000CHAY</td>\n",
       "    </tr>\n",
       "    <tr>\n",
       "      <th>12</th>\n",
       "      <td>2018-01-01</td>\n",
       "      <td>GHCND:USR0000CHAY</td>\n",
       "    </tr>\n",
       "    <tr>\n",
       "      <th>13</th>\n",
       "      <td>2018-01-01</td>\n",
       "      <td>GHCND:USR0000CHNM</td>\n",
       "    </tr>\n",
       "    <tr>\n",
       "      <th>14</th>\n",
       "      <td>2018-01-01</td>\n",
       "      <td>GHCND:USR0000CHNM</td>\n",
       "    </tr>\n",
       "    <tr>\n",
       "      <th>15</th>\n",
       "      <td>2018-01-01</td>\n",
       "      <td>GHCND:USR0000CSNL</td>\n",
       "    </tr>\n",
       "    <tr>\n",
       "      <th>16</th>\n",
       "      <td>2018-01-01</td>\n",
       "      <td>GHCND:USR0000CSNL</td>\n",
       "    </tr>\n",
       "    <tr>\n",
       "      <th>17</th>\n",
       "      <td>2018-01-01</td>\n",
       "      <td>GHCND:USS0019L39S</td>\n",
       "    </tr>\n",
       "    <tr>\n",
       "      <th>18</th>\n",
       "      <td>2018-01-01</td>\n",
       "      <td>GHCND:USS0019L39S</td>\n",
       "    </tr>\n",
       "    <tr>\n",
       "      <th>19</th>\n",
       "      <td>2018-01-01</td>\n",
       "      <td>GHCND:USS0019L39S</td>\n",
       "    </tr>\n",
       "  </tbody>\n",
       "</table>\n",
       "</div>"
      ],
      "text/plain": [
       "          date            station\n",
       "0   2018-01-01  GHCND:US1CAAL0012\n",
       "1   2018-01-01  GHCND:US1CALA0046\n",
       "2   2018-01-01  GHCND:US1CAMP0008\n",
       "3   2018-01-01  GHCND:US1CASC0057\n",
       "4   2018-01-01  GHCND:US1CASD0053\n",
       "5   2018-01-01  GHCND:USR0000CBAR\n",
       "6   2018-01-01  GHCND:USR0000CBAR\n",
       "7   2018-01-01  GHCND:USR0000CCRE\n",
       "8   2018-01-01  GHCND:USR0000CCRE\n",
       "9   2018-01-01  GHCND:USR0000CDGR\n",
       "10  2018-01-01  GHCND:USR0000CDGR\n",
       "11  2018-01-01  GHCND:USR0000CHAY\n",
       "12  2018-01-01  GHCND:USR0000CHAY\n",
       "13  2018-01-01  GHCND:USR0000CHNM\n",
       "14  2018-01-01  GHCND:USR0000CHNM\n",
       "15  2018-01-01  GHCND:USR0000CSNL\n",
       "16  2018-01-01  GHCND:USR0000CSNL\n",
       "17  2018-01-01  GHCND:USS0019L39S\n",
       "18  2018-01-01  GHCND:USS0019L39S\n",
       "19  2018-01-01  GHCND:USS0019L39S"
      ]
     },
     "execution_count": 89,
     "metadata": {},
     "output_type": "execute_result"
    }
   ],
   "source": [
    "test = df_noaa.drop(columns=['datatype', 'value'])\n",
    "test.head(20)"
   ]
  },
  {
   "cell_type": "code",
   "execution_count": 90,
   "id": "8f117577-dfff-466f-ae94-66381e2bb90a",
   "metadata": {
    "tags": []
   },
   "outputs": [
    {
     "data": {
      "text/html": [
       "<div>\n",
       "<style scoped>\n",
       "    .dataframe tbody tr th:only-of-type {\n",
       "        vertical-align: middle;\n",
       "    }\n",
       "\n",
       "    .dataframe tbody tr th {\n",
       "        vertical-align: top;\n",
       "    }\n",
       "\n",
       "    .dataframe thead th {\n",
       "        text-align: right;\n",
       "    }\n",
       "</style>\n",
       "<table border=\"1\" class=\"dataframe\">\n",
       "  <thead>\n",
       "    <tr style=\"text-align: right;\">\n",
       "      <th></th>\n",
       "      <th>date</th>\n",
       "      <th>station</th>\n",
       "      <th>PRCP</th>\n",
       "      <th>TMIN</th>\n",
       "      <th>TMAX</th>\n",
       "    </tr>\n",
       "  </thead>\n",
       "  <tbody>\n",
       "    <tr>\n",
       "      <th>0</th>\n",
       "      <td>2018-01-01</td>\n",
       "      <td>GHCND:US1CAAL0012</td>\n",
       "      <td>0</td>\n",
       "      <td>0</td>\n",
       "      <td>0</td>\n",
       "    </tr>\n",
       "    <tr>\n",
       "      <th>1</th>\n",
       "      <td>2018-01-01</td>\n",
       "      <td>GHCND:US1CALA0046</td>\n",
       "      <td>0</td>\n",
       "      <td>0</td>\n",
       "      <td>0</td>\n",
       "    </tr>\n",
       "    <tr>\n",
       "      <th>2</th>\n",
       "      <td>2018-01-01</td>\n",
       "      <td>GHCND:US1CAMP0008</td>\n",
       "      <td>0</td>\n",
       "      <td>0</td>\n",
       "      <td>0</td>\n",
       "    </tr>\n",
       "    <tr>\n",
       "      <th>3</th>\n",
       "      <td>2018-01-01</td>\n",
       "      <td>GHCND:US1CASC0057</td>\n",
       "      <td>0</td>\n",
       "      <td>0</td>\n",
       "      <td>0</td>\n",
       "    </tr>\n",
       "    <tr>\n",
       "      <th>4</th>\n",
       "      <td>2018-01-01</td>\n",
       "      <td>GHCND:US1CASD0053</td>\n",
       "      <td>0</td>\n",
       "      <td>0</td>\n",
       "      <td>0</td>\n",
       "    </tr>\n",
       "  </tbody>\n",
       "</table>\n",
       "</div>"
      ],
      "text/plain": [
       "         date            station  PRCP  TMIN  TMAX\n",
       "0  2018-01-01  GHCND:US1CAAL0012     0     0     0\n",
       "1  2018-01-01  GHCND:US1CALA0046     0     0     0\n",
       "2  2018-01-01  GHCND:US1CAMP0008     0     0     0\n",
       "3  2018-01-01  GHCND:US1CASC0057     0     0     0\n",
       "4  2018-01-01  GHCND:US1CASD0053     0     0     0"
      ]
     },
     "execution_count": 90,
     "metadata": {},
     "output_type": "execute_result"
    }
   ],
   "source": [
    "test['PRCP'] = [0]*len(test)\n",
    "test['TMIN'] = [0]*len(test)\n",
    "test['TMAX'] = [0]*len(test)\n",
    "test.head()"
   ]
  },
  {
   "cell_type": "code",
   "execution_count": null,
   "id": "f13e7a49-5636-46b5-8498-7ece237fb32a",
   "metadata": {
    "tags": []
   },
   "outputs": [],
   "source": [
    "for i in range(test.shape[0]):\n",
    "    station = test.iloc[i,1]\n",
    "    date = test.iloc[i,0]\n",
    "    val = df_noaa.loc[(df_noaa['date'] == date) & (df_noaa['station'] == station)]['value'].values[0]\n",
    "    datatype = df_noaa.loc[(df_noaa['date'] == date) & (df_noaa['station'] == station)]['datatype'].values[0]\n",
    "    test.loc[i, datatype] = val"
   ]
  },
  {
   "cell_type": "code",
   "execution_count": 70,
   "id": "1bf02f48-8abd-45a9-b4fe-1817839958c0",
   "metadata": {
    "tags": []
   },
   "outputs": [
    {
     "data": {
      "text/plain": [
       "'GHCND:US1CALA0046'"
      ]
     },
     "execution_count": 70,
     "metadata": {},
     "output_type": "execute_result"
    }
   ],
   "source": [
    "test.iloc[1, 1]"
   ]
  },
  {
   "cell_type": "code",
   "execution_count": 79,
   "id": "a8aa8e76-1836-4e25-a7da-51eba994aa81",
   "metadata": {
    "tags": []
   },
   "outputs": [
    {
     "data": {
      "text/plain": [
       "NoneType"
      ]
     },
     "execution_count": 79,
     "metadata": {},
     "output_type": "execute_result"
    }
   ],
   "source": [
    "v = df_noaa.loc[(df_noaa['date'] == '2018-01-01') & (df_noaa['station'] == 'GHCND:US1CALA0046')]['value']\n",
    "type(v)"
   ]
  },
  {
   "cell_type": "code",
   "execution_count": 82,
   "id": "ed6d1453-29e1-487b-9114-fa88fcfb724e",
   "metadata": {
    "tags": []
   },
   "outputs": [
    {
     "data": {
      "text/plain": [
       "0.0"
      ]
     },
     "execution_count": 82,
     "metadata": {},
     "output_type": "execute_result"
    }
   ],
   "source": [
    "df_noaa.loc[(df_noaa['date'] == '2018-01-01') & (df_noaa['station'] == 'GHCND:US1CALA0046')]['value'].values[0]"
   ]
  },
  {
   "cell_type": "code",
   "execution_count": 83,
   "id": "719b1235-b6a7-4405-a163-3604bfcb59ae",
   "metadata": {
    "tags": []
   },
   "outputs": [
    {
     "data": {
      "text/plain": [
       "'PRCP'"
      ]
     },
     "execution_count": 83,
     "metadata": {},
     "output_type": "execute_result"
    }
   ],
   "source": [
    "df_noaa.loc[(df_noaa['date'] == '2018-01-01') & (df_noaa['station'] == 'GHCND:US1CALA0046')]['datatype'].values[0]"
   ]
  },
  {
   "cell_type": "code",
   "execution_count": null,
   "id": "41ca74f7-e002-4ce5-ae80-4e49c4eee7c3",
   "metadata": {},
   "outputs": [],
   "source": []
  }
 ],
 "metadata": {
  "kernelspec": {
   "display_name": "Python 3 (ipykernel)",
   "language": "python",
   "name": "python3"
  },
  "language_info": {
   "codemirror_mode": {
    "name": "ipython",
    "version": 3
   },
   "file_extension": ".py",
   "mimetype": "text/x-python",
   "name": "python",
   "nbconvert_exporter": "python",
   "pygments_lexer": "ipython3",
   "version": "3.9.16"
  }
 },
 "nbformat": 4,
 "nbformat_minor": 5
}
