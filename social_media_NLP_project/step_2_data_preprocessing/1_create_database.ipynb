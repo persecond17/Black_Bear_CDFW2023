{
 "cells": [
  {
   "cell_type": "code",
   "execution_count": 1,
   "id": "27d11bf5-6c47-43bd-a339-50d3de2c0b98",
   "metadata": {},
   "outputs": [],
   "source": [
    "import pandas as pd\n",
    "import numpy as np\n",
    "import os\n",
    "from datetime import datetime\n",
    "\n",
    "import warnings\n",
    "warnings.filterwarnings(\"ignore\")"
   ]
  },
  {
   "cell_type": "markdown",
   "id": "50f34741-755e-416d-b261-7867daa5914c",
   "metadata": {},
   "source": [
    "# Merge log files together \n",
    "\n",
    "The CSV files contain query results for individual grids within the selected period. To facilitate further exploration, we merge these files together."
   ]
  },
  {
   "cell_type": "code",
   "execution_count": 3,
   "id": "69098795-0f22-4e49-9771-36739541bbeb",
   "metadata": {},
   "outputs": [],
   "source": [
    "def filelist(root):\n",
    "    allfiles = []\n",
    "    for path, subdirs, files in os.walk(root):\n",
    "        for name in files:\n",
    "            allfiles.append(os.path.join(path, name))\n",
    "    return allfiles"
   ]
  },
  {
   "cell_type": "code",
   "execution_count": 297,
   "id": "fe581a42-8417-4b42-a753-0f75499cf204",
   "metadata": {},
   "outputs": [
    {
     "name": "stdout",
     "output_type": "stream",
     "text": [
      "<class 'pandas.core.frame.DataFrame'>\n",
      "Int64Index: 45298 entries, 0 to 53\n",
      "Data columns (total 13 columns):\n",
      " #   Column         Non-Null Count  Dtype  \n",
      "---  ------         --------------  -----  \n",
      " 0   grid_id        45298 non-null  int64  \n",
      " 1   tweet_id       45298 non-null  object \n",
      " 2   created_at     45298 non-null  object \n",
      " 3   text           45298 non-null  object \n",
      " 4   author_id      45292 non-null  object \n",
      " 5   place_id       38677 non-null  object \n",
      " 6   long           34539 non-null  object \n",
      " 7   lat            34539 non-null  float64\n",
      " 8   full_location  38677 non-null  object \n",
      " 9   location       38671 non-null  object \n",
      " 10  location_type  38671 non-null  object \n",
      " 11  assign_long    45286 non-null  float64\n",
      " 12  assign_lat     45286 non-null  float64\n",
      "dtypes: float64(3), int64(1), object(9)\n",
      "memory usage: 4.8+ MB\n"
     ]
    }
   ],
   "source": [
    "df = pd.concat([pd.read_csv(csv_file) for csv_file in filelist(\"longterm/2010-2012\") if csv_file[-3:]=='csv'])\n",
    "df = df.drop(columns=['Unnamed: 0'])\n",
    "df.info()"
   ]
  },
  {
   "cell_type": "code",
   "execution_count": 20,
   "id": "916e70bf-a195-4a32-8bec-8da58b33c627",
   "metadata": {},
   "outputs": [],
   "source": [
    "period = '2010-01-01_2012-12-31'\n",
    "df.to_csv(f'1_raw_long/{period}.csv') "
   ]
  },
  {
   "cell_type": "markdown",
   "id": "2dbcf1b2-c991-4b38-9b09-aac45a039109",
   "metadata": {},
   "source": [
    "# Create a unique database by deduplicating\n",
    "\n",
    "Due to the overlap between query periods and the splitting of geo grids, some tweets may be duplicated. To address this, we will use the unique tweet_id to remove duplicates and merge all records into a single dataset."
   ]
  },
  {
   "cell_type": "code",
   "execution_count": 4,
   "id": "3ded486f-e9e8-4bbf-b7a2-b7dace43f878",
   "metadata": {},
   "outputs": [
    {
     "data": {
      "text/html": [
       "<div>\n",
       "<style scoped>\n",
       "    .dataframe tbody tr th:only-of-type {\n",
       "        vertical-align: middle;\n",
       "    }\n",
       "\n",
       "    .dataframe tbody tr th {\n",
       "        vertical-align: top;\n",
       "    }\n",
       "\n",
       "    .dataframe thead th {\n",
       "        text-align: right;\n",
       "    }\n",
       "</style>\n",
       "<table border=\"1\" class=\"dataframe\">\n",
       "  <thead>\n",
       "    <tr style=\"text-align: right;\">\n",
       "      <th></th>\n",
       "      <th>Unnamed: 0</th>\n",
       "      <th>grid_id</th>\n",
       "      <th>tweet_id</th>\n",
       "      <th>created_at</th>\n",
       "      <th>text</th>\n",
       "      <th>author_id</th>\n",
       "      <th>place_id</th>\n",
       "      <th>long</th>\n",
       "      <th>lat</th>\n",
       "      <th>full_location</th>\n",
       "      <th>location</th>\n",
       "      <th>location_type</th>\n",
       "      <th>assign_long</th>\n",
       "      <th>assign_lat</th>\n",
       "    </tr>\n",
       "  </thead>\n",
       "  <tbody>\n",
       "    <tr>\n",
       "      <th>0</th>\n",
       "      <td>0</td>\n",
       "      <td>3666.0</td>\n",
       "      <td>1497426911743541250</td>\n",
       "      <td>2022-02-26 04:22:51</td>\n",
       "      <td>@PeteAbe @SheilaMullowney I think I would like...</td>\n",
       "      <td>3807247214</td>\n",
       "      <td>0148540119dc25ab</td>\n",
       "      <td>NaN</td>\n",
       "      <td>NaN</td>\n",
       "      <td>Calimesa, CA</td>\n",
       "      <td>Calimesa</td>\n",
       "      <td>city</td>\n",
       "      <td>-117.066854</td>\n",
       "      <td>33.973347</td>\n",
       "    </tr>\n",
       "    <tr>\n",
       "      <th>1</th>\n",
       "      <td>1</td>\n",
       "      <td>3666.0</td>\n",
       "      <td>1494876573517840388</td>\n",
       "      <td>2022-02-19 03:28:43</td>\n",
       "      <td>Big Bear にあるAlpine Slideへ！楽しかった〜😊長い滑り台がいくつかあるテ...</td>\n",
       "      <td>68460337</td>\n",
       "      <td>0148540119dc25ab</td>\n",
       "      <td>NaN</td>\n",
       "      <td>NaN</td>\n",
       "      <td>Calimesa, CA</td>\n",
       "      <td>Calimesa</td>\n",
       "      <td>city</td>\n",
       "      <td>-117.066854</td>\n",
       "      <td>33.973347</td>\n",
       "    </tr>\n",
       "    <tr>\n",
       "      <th>2</th>\n",
       "      <td>0</td>\n",
       "      <td>3672.0</td>\n",
       "      <td>1529508813010632705</td>\n",
       "      <td>2022-05-25 17:04:52</td>\n",
       "      <td>@laxietoo @catboerner @NatashaBertrand @anders...</td>\n",
       "      <td>1310770558317948928</td>\n",
       "      <td>006bbe08633392ba</td>\n",
       "      <td>NaN</td>\n",
       "      <td>NaN</td>\n",
       "      <td>Desert Edge, CA</td>\n",
       "      <td>Desert Edge</td>\n",
       "      <td>city</td>\n",
       "      <td>-116.418073</td>\n",
       "      <td>33.954765</td>\n",
       "    </tr>\n",
       "    <tr>\n",
       "      <th>3</th>\n",
       "      <td>1</td>\n",
       "      <td>3672.0</td>\n",
       "      <td>1524747843528847361</td>\n",
       "      <td>2022-05-12 13:46:28</td>\n",
       "      <td>@LadyPieLives Because the 2nd Amendment guaran...</td>\n",
       "      <td>1310770558317948928</td>\n",
       "      <td>006bbe08633392ba</td>\n",
       "      <td>NaN</td>\n",
       "      <td>NaN</td>\n",
       "      <td>Desert Edge, CA</td>\n",
       "      <td>Desert Edge</td>\n",
       "      <td>city</td>\n",
       "      <td>-116.418073</td>\n",
       "      <td>33.954765</td>\n",
       "    </tr>\n",
       "    <tr>\n",
       "      <th>4</th>\n",
       "      <td>2</td>\n",
       "      <td>3672.0</td>\n",
       "      <td>1503037388523593730</td>\n",
       "      <td>2022-03-13 15:56:53</td>\n",
       "      <td>@NorwichCadets @NorwichWLax @SJCmonks #GoWick ...</td>\n",
       "      <td>18413788</td>\n",
       "      <td>006bbe08633392ba</td>\n",
       "      <td>NaN</td>\n",
       "      <td>NaN</td>\n",
       "      <td>Desert Edge, CA</td>\n",
       "      <td>Desert Edge</td>\n",
       "      <td>city</td>\n",
       "      <td>-116.418073</td>\n",
       "      <td>33.954765</td>\n",
       "    </tr>\n",
       "  </tbody>\n",
       "</table>\n",
       "</div>"
      ],
      "text/plain": [
       "   Unnamed: 0  grid_id             tweet_id           created_at  \\\n",
       "0           0   3666.0  1497426911743541250  2022-02-26 04:22:51   \n",
       "1           1   3666.0  1494876573517840388  2022-02-19 03:28:43   \n",
       "2           0   3672.0  1529508813010632705  2022-05-25 17:04:52   \n",
       "3           1   3672.0  1524747843528847361  2022-05-12 13:46:28   \n",
       "4           2   3672.0  1503037388523593730  2022-03-13 15:56:53   \n",
       "\n",
       "                                                text            author_id  \\\n",
       "0  @PeteAbe @SheilaMullowney I think I would like...           3807247214   \n",
       "1  Big Bear にあるAlpine Slideへ！楽しかった〜😊長い滑り台がいくつかあるテ...             68460337   \n",
       "2  @laxietoo @catboerner @NatashaBertrand @anders...  1310770558317948928   \n",
       "3  @LadyPieLives Because the 2nd Amendment guaran...  1310770558317948928   \n",
       "4  @NorwichCadets @NorwichWLax @SJCmonks #GoWick ...             18413788   \n",
       "\n",
       "           place_id long  lat    full_location     location location_type  \\\n",
       "0  0148540119dc25ab  NaN  NaN     Calimesa, CA     Calimesa          city   \n",
       "1  0148540119dc25ab  NaN  NaN     Calimesa, CA     Calimesa          city   \n",
       "2  006bbe08633392ba  NaN  NaN  Desert Edge, CA  Desert Edge          city   \n",
       "3  006bbe08633392ba  NaN  NaN  Desert Edge, CA  Desert Edge          city   \n",
       "4  006bbe08633392ba  NaN  NaN  Desert Edge, CA  Desert Edge          city   \n",
       "\n",
       "   assign_long  assign_lat  \n",
       "0  -117.066854   33.973347  \n",
       "1  -117.066854   33.973347  \n",
       "2  -116.418073   33.954765  \n",
       "3  -116.418073   33.954765  \n",
       "4  -116.418073   33.954765  "
      ]
     },
     "execution_count": 4,
     "metadata": {},
     "output_type": "execute_result"
    }
   ],
   "source": [
    "merge_df = pd.concat([pd.read_csv(csv_file) for csv_file in filelist(\"1_raw_long\") \n",
    "                      if csv_file[-3:]=='csv'], ignore_index=True)\n",
    "merge_df.head()"
   ]
  },
  {
   "cell_type": "code",
   "execution_count": 5,
   "id": "c37ac5b1-d2bc-449f-9930-f10967217578",
   "metadata": {},
   "outputs": [
    {
     "name": "stdout",
     "output_type": "stream",
     "text": [
      "<class 'pandas.core.frame.DataFrame'>\n",
      "RangeIndex: 326330 entries, 0 to 326329\n",
      "Data columns (total 13 columns):\n",
      " #   Column         Non-Null Count   Dtype  \n",
      "---  ------         --------------   -----  \n",
      " 0   grid_id        326330 non-null  float64\n",
      " 1   tweet_id       326330 non-null  object \n",
      " 2   created_at     326330 non-null  object \n",
      " 3   text           326330 non-null  object \n",
      " 4   author_id      326330 non-null  object \n",
      " 5   place_id       318083 non-null  object \n",
      " 6   long           168237 non-null  object \n",
      " 7   lat            168237 non-null  float64\n",
      " 8   full_location  317974 non-null  object \n",
      " 9   location       317974 non-null  object \n",
      " 10  location_type  317974 non-null  object \n",
      " 11  assign_long    326330 non-null  float64\n",
      " 12  assign_lat     326330 non-null  float64\n",
      "dtypes: float64(4), object(9)\n",
      "memory usage: 32.4+ MB\n"
     ]
    }
   ],
   "source": [
    "# Drop unnecessary columns, drop Nan values, change data type and reset index\n",
    "merge_df = merge_df.drop(columns=['Unnamed: 0'])\n",
    "merge_df.dropna(subset=['tweet_id','text','assign_long','assign_lat'],inplace=True)\n",
    "merge_df = merge_df.astype({'tweet_id':'str'}).reset_index(drop=True)\n",
    "\n",
    "merge_df.info()"
   ]
  },
  {
   "cell_type": "code",
   "execution_count": 6,
   "id": "56c82b28-5fc0-4a36-8366-1b9802b3056f",
   "metadata": {},
   "outputs": [
    {
     "data": {
      "text/plain": [
       "316750"
      ]
     },
     "execution_count": 6,
     "metadata": {},
     "output_type": "execute_result"
    }
   ],
   "source": [
    "len(merge_df.tweet_id.unique())"
   ]
  },
  {
   "cell_type": "code",
   "execution_count": 7,
   "id": "387e2a56-feac-46ee-a3f8-e3a505f429de",
   "metadata": {},
   "outputs": [],
   "source": [
    "def deduplicate(raw):\n",
    "    curr = raw[0][1] #tweet_id\n",
    "    longs, lats = [raw[0][-2]], [raw[0][-1]] # long, lat\n",
    "    temp = raw[0]\n",
    "    results = []\n",
    "\n",
    "    for i in range(1, len(raw)):\n",
    "        if curr == raw[i][1]: #tweet_id\n",
    "            longs.append(raw[i][-2])\n",
    "            lats.append(raw[i][-1])\n",
    "        else:\n",
    "            temp = raw[i-1]\n",
    "            if len(longs) > 1:\n",
    "                temp[-2] = np.mean(longs)\n",
    "                temp[-1] = np.mean(lats)\n",
    "            results.append(temp)\n",
    "            \n",
    "            longs, lats = [raw[i][-2]], [raw[i][-1]]\n",
    "            curr = raw[i][1]\n",
    "            \n",
    "        if i == len(raw)-1:\n",
    "            results.append(raw[i])\n",
    "            \n",
    "    return results"
   ]
  },
  {
   "cell_type": "code",
   "execution_count": 8,
   "id": "f0259c8a-98ff-4e08-b833-e0fa32dec549",
   "metadata": {},
   "outputs": [
    {
     "data": {
      "text/plain": [
       "316749"
      ]
     },
     "execution_count": 8,
     "metadata": {},
     "output_type": "execute_result"
    }
   ],
   "source": [
    "merge_df = merge_df.sort_values(by=['tweet_id'])\n",
    "raw = merge_df.values.tolist()[1:]\n",
    "results = deduplicate(raw)\n",
    "len(results)"
   ]
  },
  {
   "cell_type": "markdown",
   "id": "6ef9240f-855d-4a49-96bc-912f2184f830",
   "metadata": {},
   "source": [
    "# Reformat and Save the Database\n",
    "\n",
    "In order to improve data quality and standardize the data structure, we modify the database schema, adjust data types, and merge columns related to geographic information - if an original coordinate is available, we retain it; otherwise, we use the assigned coordinate.\n",
    "\n",
    "Once these changes are made, we convert the data to a dataframe and save it as a CSV file, which can be easily imported into Spark for assigning unified county labels."
   ]
  },
  {
   "cell_type": "code",
   "execution_count": 9,
   "id": "06a9bc3e-974d-409f-9860-d268edb4daf9",
   "metadata": {},
   "outputs": [],
   "source": [
    "def isfloat(num):\n",
    "    if str(num)=='nan':\n",
    "        return False\n",
    "    try:\n",
    "        float(num)\n",
    "        return True\n",
    "    except ValueError:\n",
    "        return False"
   ]
  },
  {
   "cell_type": "code",
   "execution_count": 10,
   "id": "9586af5d-564d-4ef0-9179-0b492224e0b8",
   "metadata": {},
   "outputs": [],
   "source": [
    "def reformat(results):\n",
    "    data = []\n",
    "    for line in results:\n",
    "        temp = [''] * 8\n",
    "        temp[0] = str(line[1])\n",
    "        temp[1] = datetime.strptime(line[2], '%Y-%m-%d %H:%M:%S')\n",
    "        temp[2:5] = line[3:6]\n",
    "        temp[5] = line[8]\n",
    "        \n",
    "        # merge geo columns\n",
    "        if isfloat(line[6]):\n",
    "            temp[-2] = float(line[6])\n",
    "        else: \n",
    "            temp[-2] = line[-2]\n",
    "        if isfloat(line[7]):\n",
    "            temp[-1] = float(line[7])\n",
    "        else: \n",
    "            temp[-1] = line[-1]\n",
    "        data.append(temp)\n",
    "    return data"
   ]
  },
  {
   "cell_type": "code",
   "execution_count": 11,
   "id": "03e4f908-a3f2-4b38-b3ac-3d47218e5f13",
   "metadata": {},
   "outputs": [
    {
     "data": {
      "text/plain": [
       "[['100001445859958785',\n",
       "  datetime.datetime(2011, 8, 7, 0, 32, 57),\n",
       "  \"Bear Grylls just bit a trout's head off!\",\n",
       "  '18003609',\n",
       "  'fbd6d2f5a4e4a15e',\n",
       "  'California, USA',\n",
       "  -120.645794,\n",
       "  35.2478663],\n",
       " ['1000015974010007552',\n",
       "  datetime.datetime(2018, 5, 25, 14, 9, 22),\n",
       "  '@StacyGSG love the Jets t-shirt on the bear',\n",
       "  596144748,\n",
       "  'a592bd6ceb1319f7',\n",
       "  'San Diego, CA',\n",
       "  -117.1097307686585,\n",
       "  32.80103765390325],\n",
       " ['1000016540027142144',\n",
       "  datetime.datetime(2018, 5, 25, 14, 11, 37),\n",
       "  \"Kid: what is this this is boring. I wish it was Mickey Mouse club.\\nParents: be quiet and watch the movie.\\nKid:...\\nKid: I guess this is okay...uh mom? Dad?\\nDad: [/openly sobbing] POOH BEAR I'M COMING HOME 😭😢\\nmom: OH PIGLET SWEETHEART 😭😭\\nKid: 🤨😮😕\\n#WinnieThePooh https://t.co/5CW04DuRLo\",\n",
       "  31197211,\n",
       "  '0c2e6999105f8070',\n",
       "  'Anaheim, CA',\n",
       "  -117.8290634317465,\n",
       "  33.8100699306916],\n",
       " ['1000020809799254018',\n",
       "  datetime.datetime(2018, 5, 25, 14, 28, 35),\n",
       "  'Next weekend’s Gold State is also a fund raiser for the Big Bear trail foundation. $5.00 from every entry fee goes towards maintaining and expanding Big Bears trail network. https://t.co/RJ45iku6uX',\n",
       "  2821288277,\n",
       "  'ef74afb7ccba74d6',\n",
       "  'Placentia, CA',\n",
       "  -117.8265881816275,\n",
       "  33.90021414595055],\n",
       " ['1000033358896812032',\n",
       "  datetime.datetime(2018, 5, 25, 15, 18, 27),\n",
       "  \"Weinstein's sexual predation is clearly commonplace (if the depth/breadth of his was rare for the wealth &amp; power he personally was able to bring to bear), but I still can't wrap my head around the psychology that'd think these were acceptable ways to treat people. It's monstrous.\",\n",
       "  19261695,\n",
       "  'c7d2493232f133a0',\n",
       "  'San Carlos, CA',\n",
       "  -122.254092274408,\n",
       "  37.5009576133957]]"
      ]
     },
     "execution_count": 11,
     "metadata": {},
     "output_type": "execute_result"
    }
   ],
   "source": [
    "data = reformat(results)\n",
    "data[:5]"
   ]
  },
  {
   "cell_type": "code",
   "execution_count": 12,
   "id": "194a960a-2a73-483d-bee0-bb4f78ff9d95",
   "metadata": {},
   "outputs": [
    {
     "name": "stdout",
     "output_type": "stream",
     "text": [
      "<class 'pandas.core.frame.DataFrame'>\n",
      "RangeIndex: 316749 entries, 0 to 316748\n",
      "Data columns (total 8 columns):\n",
      " #   Column            Non-Null Count   Dtype         \n",
      "---  ------            --------------   -----         \n",
      " 0   tweet_id          316749 non-null  object        \n",
      " 1   created_datetime  316749 non-null  datetime64[ns]\n",
      " 2   content           316749 non-null  object        \n",
      " 3   author_id         316749 non-null  object        \n",
      " 4   place_id          308781 non-null  object        \n",
      " 5   location          308672 non-null  object        \n",
      " 6   longitude         316749 non-null  float64       \n",
      " 7   latitude          316749 non-null  float64       \n",
      "dtypes: datetime64[ns](1), float64(2), object(5)\n",
      "memory usage: 19.3+ MB\n"
     ]
    }
   ],
   "source": [
    "header = ['tweet_id', 'created_datetime', 'content', 'author_id', \\\n",
    "          'place_id', 'location', 'longitude', 'latitude']\n",
    "\n",
    "final = pd.DataFrame(data, columns=header)\n",
    "final.info()"
   ]
  },
  {
   "cell_type": "code",
   "execution_count": 14,
   "id": "9d0568dc-b8b7-46b1-99ad-23ba7317f446",
   "metadata": {},
   "outputs": [],
   "source": [
    "final.to_csv(f'1_raw_long/total_long.csv') "
   ]
  },
  {
   "cell_type": "code",
   "execution_count": null,
   "id": "e6ce5919-30f7-40f2-9d50-8f09525d597e",
   "metadata": {},
   "outputs": [],
   "source": []
  }
 ],
 "metadata": {
  "kernelspec": {
   "display_name": "Python 3 (ipykernel)",
   "language": "python",
   "name": "python3"
  },
  "language_info": {
   "codemirror_mode": {
    "name": "ipython",
    "version": 3
   },
   "file_extension": ".py",
   "mimetype": "text/x-python",
   "name": "python",
   "nbconvert_exporter": "python",
   "pygments_lexer": "ipython3",
   "version": "3.10.6"
  }
 },
 "nbformat": 4,
 "nbformat_minor": 5
}
