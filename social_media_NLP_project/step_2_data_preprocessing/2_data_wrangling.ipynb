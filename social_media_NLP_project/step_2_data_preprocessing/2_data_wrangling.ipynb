{
 "cells": [
  {
   "cell_type": "code",
   "execution_count": 3,
   "id": "5k9r56G6Y-Pw",
   "metadata": {
    "id": "5k9r56G6Y-Pw"
   },
   "outputs": [],
   "source": [
    "# !pip install pyspark"
   ]
  },
  {
   "cell_type": "code",
   "execution_count": 2,
   "id": "7db79c13-b39f-4678-adad-f3a33e81368c",
   "metadata": {
    "id": "7db79c13-b39f-4678-adad-f3a33e81368c"
   },
   "outputs": [],
   "source": [
    "import pyspark\n",
    "from pyspark.sql import SparkSession\n",
    "from pyspark.sql.types import *\n",
    "from pyspark.sql.functions import *\n",
    "import time\n",
    "import pandas as pd\n",
    "import random\n",
    "from collections import Counter\n",
    "\n",
    "import warnings\n",
    "warnings.filterwarnings(\"ignore\")\n",
    "\n",
    "spark = SparkSession.builder.getOrCreate()\n",
    "path_to_database = \"total_long.csv\"\n",
    "path_to_geo_grid = \"grid_out.csv\""
   ]
  },
  {
   "cell_type": "markdown",
   "id": "f05ba8fc-4169-4f8e-bcb8-aa21d6960ab8",
   "metadata": {
    "id": "f05ba8fc-4169-4f8e-bcb8-aa21d6960ab8"
   },
   "source": [
    "# Create a Spark dataframe from the database\n",
    "\n",
    "Using a predefined schema, load data from a CSV file into a Spark dataframe."
   ]
  },
  {
   "cell_type": "code",
   "execution_count": 4,
   "id": "741eaa50-c535-4cce-b397-241caddc0065",
   "metadata": {
    "colab": {
     "base_uri": "https://localhost:8080/"
    },
    "id": "741eaa50-c535-4cce-b397-241caddc0065",
    "outputId": "0ec79019-02b5-46ac-f734-9c7ed0ad1c4d"
   },
   "outputs": [
    {
     "name": "stdout",
     "output_type": "stream",
     "text": [
      "+-------+--------------------+--------------------+--------------------+-----------------+-------------+-------------------+------------------+\n",
      "|summary|            tweet_id|             content|           author_id|         place_id|     location|          longitude|          latitude|\n",
      "+-------+--------------------+--------------------+--------------------+-----------------+-------------+-------------------+------------------+\n",
      "|  count|              316749|              316749|              316749|           308781|       308672|             316749|            316749|\n",
      "|   mean|7.449569998604439E17|                null|7.725393844630732...|         Infinity|         null|-118.91889219910098| 35.22396342924302|\n",
      "| stddev|4.066138605703703E17|                null|2.722915775825696E17|              NaN|         null|  1.967368201338569|1.9001820040807935|\n",
      "|    min|  100001445859958785|! ! !Happy 4th of...|           100000075| 000385f04a7b87b4|    1700 Naud|          -124.4095|         32.571747|\n",
      "|    25%|4.250741100967567...|                null|          4.829669E7| 9.81530288941E14|         null|         -120.89699|          33.99941|\n",
      "|    50%|7.021686938709893...|                null|        2.74954576E8|1.325283373146E15|         null|           -118.328|         34.239613|\n",
      "|    75%|1.057738549750104...|                null|       1.312361089E9|         Infinity|         null|           -117.228|           37.2879|\n",
      "|    max|  999979863682441217|🪙\\n\\nLonely peop...|           999949908| ff8d7c870f6abbd8|village pizza|         -114.17489|           42.0038|\n",
      "+-------+--------------------+--------------------+--------------------+-----------------+-------------+-------------------+------------------+\n",
      "\n"
     ]
    }
   ],
   "source": [
    "schema = StructType([\n",
    "    StructField(\"\", IntegerType(), False),\n",
    "    StructField(\"tweet_id\", StringType(), False),\n",
    "    StructField(\"created_datetime\", DateType(), True),\n",
    "    StructField(\"content\", StringType(), True),\n",
    "    StructField(\"author_id\", StringType(), True),\n",
    "    StructField(\"place_id\", StringType(), True),\n",
    "    StructField(\"location\", StringType(), True),\n",
    "    StructField(\"longitude\", FloatType(), True),\n",
    "    StructField(\"latitude\", FloatType(), True)\n",
    "])\n",
    "\n",
    "df = spark.read.option(\"header\", \"true\")\\\n",
    "               .option(\"multiLine\", \"true\")\\\n",
    "               .option(\"inferSchema\", \"true\")\\\n",
    "               .option(\"escapeQuotes\", \"true\")\\\n",
    "               .option(\"escape\", \"\\\"\")\\\n",
    "               .schema(schema)\\\n",
    "               .csv(path_to_database)\n",
    "\n",
    "df = df.drop(col(\"\"))\n",
    "df.summary().show()"
   ]
  },
  {
   "cell_type": "code",
   "execution_count": 5,
   "id": "cda2166d-b89e-408f-8501-436dc40c33af",
   "metadata": {
    "colab": {
     "base_uri": "https://localhost:8080/"
    },
    "id": "cda2166d-b89e-408f-8501-436dc40c33af",
    "outputId": "de873bd0-00b7-45a6-be07-d593f98e1d6c"
   },
   "outputs": [
    {
     "name": "stdout",
     "output_type": "stream",
     "text": [
      "root\n",
      " |-- tweet_id: string (nullable = true)\n",
      " |-- created_datetime: date (nullable = true)\n",
      " |-- content: string (nullable = true)\n",
      " |-- author_id: string (nullable = true)\n",
      " |-- place_id: string (nullable = true)\n",
      " |-- location: string (nullable = true)\n",
      " |-- longitude: float (nullable = true)\n",
      " |-- latitude: float (nullable = true)\n",
      "\n"
     ]
    },
    {
     "data": {
      "text/plain": [
       "(316749, None)"
      ]
     },
     "execution_count": 5,
     "metadata": {},
     "output_type": "execute_result"
    }
   ],
   "source": [
    "df.count(), df.printSchema()"
   ]
  },
  {
   "cell_type": "markdown",
   "id": "32964f0e-1f19-4bcf-a3aa-db473c5ddfd3",
   "metadata": {
    "id": "32964f0e-1f19-4bcf-a3aa-db473c5ddfd3"
   },
   "source": [
    "# Create a Spark DataFrame for the grid data\n",
    "\n",
    "Retrieve 5 columns from the geo-grid CSV file. Create a Spark dataframe from a list of lists."
   ]
  },
  {
   "cell_type": "code",
   "execution_count": 6,
   "id": "4ccd2a8f-0e5f-4e4b-9888-7446aec2c499",
   "metadata": {
    "colab": {
     "base_uri": "https://localhost:8080/"
    },
    "id": "4ccd2a8f-0e5f-4e4b-9888-7446aec2c499",
    "outputId": "9a921d50-d7ef-42f5-9b2e-dadba161ed94"
   },
   "outputs": [
    {
     "name": "stdout",
     "output_type": "stream",
     "text": [
      "+-------+-------+-------------------+-------------------+------------------+------------------+\n",
      "|summary| county|               xmin|               xmax|              ymin|              ymax|\n",
      "+-------+-------+-------------------+-------------------+------------------+------------------+\n",
      "|  count|   4090|               4090|               4090|              4090|              4090|\n",
      "|   mean|   null|-119.60838001171895|-119.49324354572634| 37.10932030642118| 37.20110690253981|\n",
      "| stddev|   null|  2.503688232413515| 2.5012656519059333|2.5589218594621417|2.5584634655327196|\n",
      "|    min|ALAMEDA|   -124.40959633837|  -124.293052871327|  32.5655303544732|  32.6456642111328|\n",
      "|    25%|   null|   -121.57333607153|  -121.454120599266|  34.9615130471188|  35.0556577987553|\n",
      "|    50%|   null|  -120.043471690165|  -119.930633160645|  36.8203194609369|  36.9126132782289|\n",
      "|    75%|   null|  -117.518246629714|  -117.405495472034|  39.2680527706111|  39.3593379859515|\n",
      "|    max|   YUBA|  -114.282891010866|  -114.169183372281|  41.9593406533152|  42.0098348672662|\n",
      "+-------+-------+-------------------+-------------------+------------------+------------------+\n",
      "\n"
     ]
    }
   ],
   "source": [
    "grid_df = pd.read_csv(path_to_geo_grid)\n",
    "grid = [[line[2]]+line[5:9] for line in grid_df.values.tolist()]\n",
    "grid_columns = ['county', 'xmin', 'xmax', 'ymin', 'ymax']\n",
    "\n",
    "grid_df = spark.sparkContext.parallelize(grid).toDF(grid_columns)\n",
    "grid_df.summary().show()"
   ]
  },
  {
   "cell_type": "code",
   "execution_count": 7,
   "id": "50da338f-3309-4e59-9a10-fd84a59c29e0",
   "metadata": {
    "colab": {
     "base_uri": "https://localhost:8080/"
    },
    "id": "50da338f-3309-4e59-9a10-fd84a59c29e0",
    "outputId": "16ada386-c8ec-4268-b0ab-cc5c6d7776b3"
   },
   "outputs": [
    {
     "name": "stdout",
     "output_type": "stream",
     "text": [
      "root\n",
      " |-- county: string (nullable = true)\n",
      " |-- xmin: double (nullable = true)\n",
      " |-- xmax: double (nullable = true)\n",
      " |-- ymin: double (nullable = true)\n",
      " |-- ymax: double (nullable = true)\n",
      "\n"
     ]
    },
    {
     "data": {
      "text/plain": [
       "(4090, None)"
      ]
     },
     "execution_count": 7,
     "metadata": {},
     "output_type": "execute_result"
    }
   ],
   "source": [
    "grid_df.count(), grid_df.printSchema()"
   ]
  },
  {
   "cell_type": "markdown",
   "id": "2cf815a9-fad5-4409-9250-a85590f7da83",
   "metadata": {
    "id": "2cf815a9-fad5-4409-9250-a85590f7da83"
   },
   "source": [
    "# Perform a left join using Spark SQL on two tables created from dataframes\n",
    "\n",
    "We utilized Spark Views to create Spark tables from dataframes, performed a left join between the database dataframe and grid dataframe, and saved the resulting merged dataframe as a single CSV file."
   ]
  },
  {
   "cell_type": "code",
   "execution_count": 8,
   "id": "eebd81ad-8622-4776-b1b0-da575061fbf8",
   "metadata": {
    "colab": {
     "base_uri": "https://localhost:8080/"
    },
    "id": "eebd81ad-8622-4776-b1b0-da575061fbf8",
    "outputId": "e17327d9-e155-45bf-bf9e-509d238ebdd7"
   },
   "outputs": [
    {
     "name": "stdout",
     "output_type": "stream",
     "text": [
      "+--------+\n",
      "|count(1)|\n",
      "+--------+\n",
      "|  316749|\n",
      "+--------+\n",
      "\n"
     ]
    }
   ],
   "source": [
    "df.createOrReplaceTempView(\"database\")\n",
    "spark.sql(\"select count(*) from database\").show(5)"
   ]
  },
  {
   "cell_type": "code",
   "execution_count": 9,
   "id": "cf4be159-c44d-428a-b1db-8acbd28b295c",
   "metadata": {
    "colab": {
     "base_uri": "https://localhost:8080/"
    },
    "id": "cf4be159-c44d-428a-b1db-8acbd28b295c",
    "outputId": "a1ece044-9ba6-41fb-c070-da54f3755998"
   },
   "outputs": [
    {
     "name": "stdout",
     "output_type": "stream",
     "text": [
      "+--------+\n",
      "|count(1)|\n",
      "+--------+\n",
      "|    4090|\n",
      "+--------+\n",
      "\n"
     ]
    }
   ],
   "source": [
    "grid_df.createOrReplaceTempView(\"grid\")\n",
    "spark.sql(\"select count(*) from grid\").show(5)"
   ]
  },
  {
   "cell_type": "code",
   "execution_count": 10,
   "id": "37390712-f01b-425a-8be3-a1d8ff1fca04",
   "metadata": {
    "colab": {
     "base_uri": "https://localhost:8080/"
    },
    "id": "37390712-f01b-425a-8be3-a1d8ff1fca04",
    "outputId": "b489494c-aae8-44c4-c88c-b87bda784ad4"
   },
   "outputs": [
    {
     "name": "stdout",
     "output_type": "stream",
     "text": [
      "+-------------------+----------------+--------------------+----------+----------------+---------------+----------+---------+---------------+\n",
      "|           tweet_id|created_datetime|             content| author_id|        place_id|       location| longitude| latitude|         county|\n",
      "+-------------------+----------------+--------------------+----------+----------------+---------------+----------+---------+---------------+\n",
      "| 100001445859958785|      2011-08-07|Bear Grylls just ...|  18003609|fbd6d2f5a4e4a15e|California, USA| -120.6458|35.247868|SAN LUIS OBISPO|\n",
      "|1000015974010007552|      2018-05-25|@StacyGSG love th...| 596144748|a592bd6ceb1319f7|  San Diego, CA|-117.10973|32.801037|      SAN DIEGO|\n",
      "|1000016540027142144|      2018-05-25|Kid: what is this...|  31197211|0c2e6999105f8070|    Anaheim, CA|-117.82906| 33.81007|         ORANGE|\n",
      "|1000020809799254018|      2018-05-25|Next weekend’s Go...|2821288277|ef74afb7ccba74d6|  Placentia, CA|-117.82659|33.900215| SAN BERNARDINO|\n",
      "|1000033358896812032|      2018-05-25|Weinstein's sexua...|  19261695|c7d2493232f133a0| San Carlos, CA|-122.25409|37.500957|      SAN MATEO|\n",
      "+-------------------+----------------+--------------------+----------+----------------+---------------+----------+---------+---------------+\n",
      "only showing top 5 rows\n",
      "\n",
      "Executing time: 0.880s\n"
     ]
    }
   ],
   "source": [
    "t1 = time.time()\n",
    "\n",
    "new = spark.sql(\"select d.*, g.county \\\n",
    "                 from database d left join grid g \\\n",
    "                 on d.longitude <= g.xmax and d.longitude >= g.xmin \\\n",
    "                 and d.latitude <= g.ymax and d.latitude >= g.ymin\")\n",
    "new.show(5)\n",
    "\n",
    "t2 = time.time()\n",
    "print(f\"Executing time: {t2-t1:.3f}s\")"
   ]
  },
  {
   "cell_type": "code",
   "execution_count": 11,
   "id": "c8c6bab7-be6d-4052-a45c-fb305c83d0ea",
   "metadata": {
    "colab": {
     "base_uri": "https://localhost:8080/"
    },
    "id": "c8c6bab7-be6d-4052-a45c-fb305c83d0ea",
    "outputId": "c18bba94-5257-4a76-8cd6-14e0535fbe62"
   },
   "outputs": [
    {
     "name": "stdout",
     "output_type": "stream",
     "text": [
      "Executing time: 17.114s\n"
     ]
    }
   ],
   "source": [
    "t3 = time.time()\n",
    "\n",
    "new.coalesce(1).write\\\n",
    "               .option(\"header\", \"true\")\\\n",
    "               .option(\"multiLine\", \"true\")\\\n",
    "               .option(\"inferSchema\", \"true\")\\\n",
    "               .option(\"escapeQuotes\", \"true\")\\\n",
    "               .option(\"escape\", \"\\\"\")\\\n",
    "               .csv(\"merge.csv\")\n",
    "\n",
    "t4 = time.time()\n",
    "print(f\"Executing time: {t4-t3:.3f}s\")"
   ]
  },
  {
   "cell_type": "markdown",
   "id": "127e3a4f-def5-4a1b-b1b2-0868d416e83e",
   "metadata": {
    "id": "127e3a4f-def5-4a1b-b1b2-0868d416e83e"
   },
   "source": [
    "# Verify data quality, deduplicate and deal with records with multiple county labels"
   ]
  },
  {
   "cell_type": "code",
   "execution_count": 12,
   "id": "bb825384-cfbb-47f9-bdd0-1f0cbebb600b",
   "metadata": {
    "colab": {
     "base_uri": "https://localhost:8080/"
    },
    "id": "bb825384-cfbb-47f9-bdd0-1f0cbebb600b",
    "outputId": "714ba5d7-c768-4c7b-8010-afe8026e5056"
   },
   "outputs": [
    {
     "name": "stdout",
     "output_type": "stream",
     "text": [
      "<class 'pandas.core.frame.DataFrame'>\n",
      "RangeIndex: 325769 entries, 0 to 325768\n",
      "Data columns (total 9 columns):\n",
      " #   Column            Non-Null Count   Dtype  \n",
      "---  ------            --------------   -----  \n",
      " 0   tweet_id          325769 non-null  object \n",
      " 1   created_datetime  325769 non-null  object \n",
      " 2   content           325769 non-null  object \n",
      " 3   author_id         325769 non-null  object \n",
      " 4   place_id          325769 non-null  object \n",
      " 5   location          317405 non-null  object \n",
      " 6   longitude         325769 non-null  float64\n",
      " 7   latitude          325769 non-null  float64\n",
      " 8   county            325769 non-null  object \n",
      "dtypes: float64(2), object(7)\n",
      "memory usage: 22.4+ MB\n"
     ]
    }
   ],
   "source": [
    "tt = pd.read_csv('merge.csv/part-00000-748ca533-6d45-4b3c-8940-f810727339fe-c000.csv')\n",
    "tt = tt.astype({'tweet_id':'str', 'author_id':'str', 'place_id':'str'})\n",
    "tt.created_datetime = pd.to_datetime(tt.created_datetime).dt.date\n",
    "tt.info()"
   ]
  },
  {
   "cell_type": "code",
   "execution_count": 13,
   "id": "297f210c-6143-4f56-bfe7-016ec80bd321",
   "metadata": {
    "colab": {
     "base_uri": "https://localhost:8080/"
    },
    "id": "297f210c-6143-4f56-bfe7-016ec80bd321",
    "outputId": "52a6097d-4062-4db7-e213-84e8ff515d12"
   },
   "outputs": [
    {
     "data": {
      "text/plain": [
       "58"
      ]
     },
     "execution_count": 13,
     "metadata": {},
     "output_type": "execute_result"
    }
   ],
   "source": [
    "len(set(tt.county)) # should be 58"
   ]
  },
  {
   "cell_type": "code",
   "execution_count": 14,
   "id": "84cb42bb-0e9f-42bc-bb21-00c321db6292",
   "metadata": {
    "colab": {
     "base_uri": "https://localhost:8080/"
    },
    "id": "84cb42bb-0e9f-42bc-bb21-00c321db6292",
    "outputId": "933f2091-8245-4185-8934-3f3469f8fdaa"
   },
   "outputs": [
    {
     "data": {
      "text/plain": [
       "316749"
      ]
     },
     "execution_count": 14,
     "metadata": {},
     "output_type": "execute_result"
    }
   ],
   "source": [
    "len(tt.tweet_id.unique()) # not equals to 325769 means duplicates exist"
   ]
  },
  {
   "cell_type": "markdown",
   "id": "-fGK9z3RbGry",
   "metadata": {
    "id": "-fGK9z3RbGry"
   },
   "source": [
    "#### We have observed the presence of duplicates in the dataset and will focus on deduplication. To identify duplicates, we use the unique identifier \"tweet_id\". \n",
    "\n",
    "#### Upon further analysis, we have found that almost all duplicates occur twice in the dataset."
   ]
  },
  {
   "cell_type": "code",
   "execution_count": 15,
   "id": "2b8291cc-5855-498a-9159-18fa50c897b2",
   "metadata": {
    "colab": {
     "base_uri": "https://localhost:8080/"
    },
    "id": "2b8291cc-5855-498a-9159-18fa50c897b2",
    "outputId": "f9f16b50-61da-43f3-be51-f8a19a9b546b"
   },
   "outputs": [
    {
     "data": {
      "text/plain": [
       "9020"
      ]
     },
     "execution_count": 15,
     "metadata": {},
     "output_type": "execute_result"
    }
   ],
   "source": [
    "multiple = [(k, v) for k, v in Counter(tt.tweet_id).items() if v > 1]\n",
    "len(multiple)"
   ]
  },
  {
   "cell_type": "code",
   "execution_count": 16,
   "id": "QYBi_CESazaj",
   "metadata": {
    "colab": {
     "base_uri": "https://localhost:8080/"
    },
    "id": "QYBi_CESazaj",
    "outputId": "bf3e0fd4-0af7-4503-c0b8-f7be648c99ec"
   },
   "outputs": [
    {
     "data": {
      "text/plain": [
       "(2, 2)"
      ]
     },
     "execution_count": 16,
     "metadata": {},
     "output_type": "execute_result"
    }
   ],
   "source": [
    "# all duplicates occur twice\n",
    "multiple[0][1], multiple[-1][1]"
   ]
  },
  {
   "cell_type": "markdown",
   "id": "jrlcLEBVdyWg",
   "metadata": {
    "id": "jrlcLEBVdyWg"
   },
   "source": [
    "#### We will review all duplicate records and move those with the same county label to the drop box, while others will be placed in the check box for further verification.\n",
    "\n",
    "#### Some tweets may have been assigned multiple county labels due to their location falling on the boundaries of different counties. To handle this, we will randomly select one label to keep and discard the others to ensure that each tweet is associated with only one county."
   ]
  },
  {
   "cell_type": "code",
   "execution_count": 17,
   "id": "88e3c5fe-4ae8-451e-a096-e9ed95d230aa",
   "metadata": {
    "id": "88e3c5fe-4ae8-451e-a096-e9ed95d230aa"
   },
   "outputs": [],
   "source": [
    "def split_drop_check(tt, multiple):\n",
    "    drop_index = []\n",
    "    check_index = []\n",
    "    for k, v in multiple:\n",
    "        c1, c2 = tt.county.loc[tt.tweet_id==k]\n",
    "        if c1 == c2:\n",
    "            drop_index.append(tt.index[tt.tweet_id==k].tolist()[-1])\n",
    "        else:\n",
    "            check_index.append(tt.index[tt.tweet_id==k].tolist())\n",
    "    return drop_index, check_index"
   ]
  },
  {
   "cell_type": "code",
   "execution_count": 18,
   "id": "W05OaPjUjwi2",
   "metadata": {
    "colab": {
     "base_uri": "https://localhost:8080/"
    },
    "id": "W05OaPjUjwi2",
    "outputId": "0c22204a-8bdc-43b4-dac5-bb36e61058b1"
   },
   "outputs": [
    {
     "data": {
      "text/plain": [
       "(7204, 1816)"
      ]
     },
     "execution_count": 18,
     "metadata": {},
     "output_type": "execute_result"
    }
   ],
   "source": [
    "drop_index, check_index = split_drop_check(tt, multiple)\n",
    "len(drop_index), len(check_index)"
   ]
  },
  {
   "cell_type": "code",
   "execution_count": 19,
   "id": "4c1f1cca-f670-425c-8fc8-6b53e07adea5",
   "metadata": {
    "colab": {
     "base_uri": "https://localhost:8080/"
    },
    "id": "4c1f1cca-f670-425c-8fc8-6b53e07adea5",
    "outputId": "18270830-7a54-43ed-aa79-b2f23f4c3265"
   },
   "outputs": [
    {
     "name": "stdout",
     "output_type": "stream",
     "text": [
      "tweet_id                               1.0018506864415826e+18\n",
      "created_datetime                                   2018-05-30\n",
      "content             Fuck yes bear 😍😭💘 https://t.co/avpZVR32hv\n",
      "author_id                                         895879717.0\n",
      "place_id                                     6ba08e404aed471f\n",
      "location                                        Riverside, CA\n",
      "longitude                                          -117.39284\n",
      "latitude                                            33.936188\n",
      "county                                         SAN BERNARDINO\n",
      "Name: 297, dtype: object\n",
      "tweet_id                               1.0018506864415826e+18\n",
      "created_datetime                                   2018-05-30\n",
      "content             Fuck yes bear 😍😭💘 https://t.co/avpZVR32hv\n",
      "author_id                                         895879717.0\n",
      "place_id                                     6ba08e404aed471f\n",
      "location                                        Riverside, CA\n",
      "longitude                                          -117.39284\n",
      "latitude                                            33.936188\n",
      "county                                              RIVERSIDE\n",
      "Name: 298, dtype: object\n"
     ]
    }
   ],
   "source": [
    "# verify records with different county labels manually\n",
    "print(tt.iloc[297])\n",
    "print(tt.iloc[298])"
   ]
  },
  {
   "cell_type": "code",
   "execution_count": 20,
   "id": "b1de57e7-52bd-4462-afc0-8e8d158bccdb",
   "metadata": {
    "colab": {
     "base_uri": "https://localhost:8080/"
    },
    "id": "b1de57e7-52bd-4462-afc0-8e8d158bccdb",
    "outputId": "0959f0d1-6956-4b9f-cb43-8f25a1ea0cd2"
   },
   "outputs": [
    {
     "data": {
      "text/plain": [
       "1816"
      ]
     },
     "execution_count": 20,
     "metadata": {},
     "output_type": "execute_result"
    }
   ],
   "source": [
    "check_drop_index = [random.choice([i1, i2]) for i1, i2 in check_index]\n",
    "len(check_drop_index)"
   ]
  },
  {
   "cell_type": "code",
   "execution_count": 21,
   "id": "a3986753-09cd-4e03-bcc2-5ef7d949721d",
   "metadata": {
    "colab": {
     "base_uri": "https://localhost:8080/"
    },
    "id": "a3986753-09cd-4e03-bcc2-5ef7d949721d",
    "outputId": "fd8803b8-713e-4781-bb64-0ee12a1ed155"
   },
   "outputs": [
    {
     "name": "stdout",
     "output_type": "stream",
     "text": [
      "<class 'pandas.core.frame.DataFrame'>\n",
      "RangeIndex: 316749 entries, 0 to 316748\n",
      "Data columns (total 10 columns):\n",
      " #   Column            Non-Null Count   Dtype  \n",
      "---  ------            --------------   -----  \n",
      " 0   index             316749 non-null  int64  \n",
      " 1   tweet_id          316749 non-null  object \n",
      " 2   created_datetime  316749 non-null  object \n",
      " 3   content           316749 non-null  object \n",
      " 4   author_id         316749 non-null  object \n",
      " 5   place_id          316749 non-null  object \n",
      " 6   location          308672 non-null  object \n",
      " 7   longitude         316749 non-null  float64\n",
      " 8   latitude          316749 non-null  float64\n",
      " 9   county            316749 non-null  object \n",
      "dtypes: float64(2), int64(1), object(7)\n",
      "memory usage: 24.2+ MB\n"
     ]
    }
   ],
   "source": [
    "df = tt.drop(drop_index + check_drop_index).reset_index()\n",
    "df.info()"
   ]
  },
  {
   "cell_type": "markdown",
   "id": "Cd5IJgHOh8Le",
   "metadata": {
    "id": "Cd5IJgHOh8Le"
   },
   "source": [
    "# Save a database with unique records"
   ]
  },
  {
   "cell_type": "code",
   "execution_count": 22,
   "id": "ec16dc05-6e81-4339-98c6-742a420ad6bb",
   "metadata": {
    "id": "ec16dc05-6e81-4339-98c6-742a420ad6bb"
   },
   "outputs": [],
   "source": [
    "df.to_csv('merge_unique.csv') "
   ]
  },
  {
   "cell_type": "code",
   "execution_count": 23,
   "id": "38799511-af7f-4d3e-9ab6-2b4e705bd9b6",
   "metadata": {
    "id": "38799511-af7f-4d3e-9ab6-2b4e705bd9b6"
   },
   "outputs": [],
   "source": [
    "spark.stop()"
   ]
  },
  {
   "cell_type": "code",
   "execution_count": null,
   "id": "GrsH2mPTbyrl",
   "metadata": {
    "id": "GrsH2mPTbyrl"
   },
   "outputs": [],
   "source": []
  }
 ],
 "metadata": {
  "colab": {
   "provenance": []
  },
  "kernelspec": {
   "display_name": "Python 3 (ipykernel)",
   "language": "python",
   "name": "python3"
  },
  "language_info": {
   "codemirror_mode": {
    "name": "ipython",
    "version": 3
   },
   "file_extension": ".py",
   "mimetype": "text/x-python",
   "name": "python",
   "nbconvert_exporter": "python",
   "pygments_lexer": "ipython3",
   "version": "3.10.6"
  }
 },
 "nbformat": 4,
 "nbformat_minor": 5
}
